{
 "cells": [
  {
   "cell_type": "markdown",
   "id": "chubby-spanish",
   "metadata": {},
   "source": [
    "https://www.learnpython.org/en/Classes_and_Objects\n",
    "We have a class defined for vehicles. Create two new vehicles called car1 and car2. Set car1 to be a red convertible worth $60,000.00 with a name of Fer, and car2 to be a blue van named Jump worth $10,000.00."
   ]
  },
  {
   "cell_type": "code",
   "execution_count": 2,
   "id": "dependent-strength",
   "metadata": {},
   "outputs": [
    {
     "name": "stdout",
     "output_type": "stream",
     "text": [
      "Fer is a red car worth $60000.00.\n",
      "Jump is a blue car worth $10000.00.\n"
     ]
    }
   ],
   "source": [
    "# define the Vehicle class\n",
    "class Vehicle:\n",
    "    name = \"\"\n",
    "    kind = \"car\"\n",
    "    color = \"\"\n",
    "    value = 100.00\n",
    "    def description(self):\n",
    "        desc_str = \"%s is a %s %s worth $%.2f.\" % (self.name, self.color, self.kind, self.value)\n",
    "        return desc_str\n",
    "    \n",
    "# your code goes here\n",
    "car1 = Vehicle()\n",
    "car1.name = \"Fer\"\n",
    "car1.color = \"red\"\n",
    "car1.value = 60000.00\n",
    "\n",
    "car2 = Vehicle()\n",
    "car2.name = \"Jump\"\n",
    "car2.color = \"blue\"\n",
    "car2.value = 10000.00\n",
    "\n",
    "# test code\n",
    "print(car1.description())\n",
    "print(car2.description())"
   ]
  },
  {
   "cell_type": "markdown",
   "id": "typical-patrick",
   "metadata": {},
   "source": [
    "Write a Python class to reverse a string word by word."
   ]
  },
  {
   "cell_type": "code",
   "execution_count": 5,
   "id": "superb-deployment",
   "metadata": {},
   "outputs": [
    {
     "data": {
      "text/plain": [
       "'aaa there hi'"
      ]
     },
     "execution_count": 5,
     "metadata": {},
     "output_type": "execute_result"
    }
   ],
   "source": [
    "class wordReverser:\n",
    "    def reverse(self, str):\n",
    "        ss = str.split()\n",
    "        return \" \".join(reversed(ss))\n",
    "        \n",
    "reverser = wordReverser()\n",
    "reverser.reverse(\"hi there aaa\")"
   ]
  },
  {
   "cell_type": "markdown",
   "id": "regulation-longer",
   "metadata": {},
   "source": [
    "Tuples [https://realpython.com/python-lists-tuples/#python-tuples]\n",
    "Write a Python program to get the 4th element and 4th element from last of a tuple. "
   ]
  },
  {
   "cell_type": "code",
   "execution_count": null,
   "id": "familiar-audience",
   "metadata": {},
   "outputs": [],
   "source": []
  }
 ],
 "metadata": {
  "kernelspec": {
   "display_name": "Python 3",
   "language": "python",
   "name": "python3"
  },
  "language_info": {
   "codemirror_mode": {
    "name": "ipython",
    "version": 3
   },
   "file_extension": ".py",
   "mimetype": "text/x-python",
   "name": "python",
   "nbconvert_exporter": "python",
   "pygments_lexer": "ipython3",
   "version": "3.9.1"
  }
 },
 "nbformat": 4,
 "nbformat_minor": 5
}
