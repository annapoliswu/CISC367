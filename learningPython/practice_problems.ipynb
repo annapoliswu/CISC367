{
 "cells": [
  {
   "cell_type": "markdown",
   "id": "south-walter",
   "metadata": {},
   "source": [
    "\"\"\"\n",
    "https://www.learnpython.org/en/Classes_and_Objects\n",
    "We have a class defined for vehicles. \n",
    "Create two new vehicles called car1 and car2. \n",
    "Set car1 to be a red convertible worth $60,000.00 with a name of Fer, and car2 to be a blue van named Jump worth $10,000.00.\n",
    "\"\"\""
   ]
  },
  {
   "cell_type": "markdown",
   "id": "single-airport",
   "metadata": {},
   "source": []
  }
 ],
 "metadata": {
  "kernelspec": {
   "display_name": "Python 3",
   "language": "python",
   "name": "python3"
  },
  "language_info": {
   "codemirror_mode": {
    "name": "ipython",
    "version": 3
   },
   "file_extension": ".py",
   "mimetype": "text/x-python",
   "name": "python",
   "nbconvert_exporter": "python",
   "pygments_lexer": "ipython3",
   "version": "3.9.1"
  }
 },
 "nbformat": 4,
 "nbformat_minor": 5
}
