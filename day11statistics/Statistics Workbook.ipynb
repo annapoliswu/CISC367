{
  "nbformat": 4,
  "nbformat_minor": 5,
  "metadata": {
    "kernelspec": {
      "display_name": "Python 3",
      "language": "python",
      "name": "python3"
    },
    "language_info": {
      "codemirror_mode": {
        "name": "ipython",
        "version": 3
      },
      "file_extension": ".py",
      "mimetype": "text/x-python",
      "name": "python",
      "nbconvert_exporter": "python",
      "pygments_lexer": "ipython3",
      "version": "3.9.1"
    },
    "colab": {
      "name": "Statistics Workbook.ipynb",
      "provenance": [],
      "collapsed_sections": [
        "insured-biodiversity",
        "painful-immigration",
        "quiet-patrick",
        "excess-spider",
        "disturbed-alignment",
        "assured-lightweight",
        "above-bennett"
      ]
    }
  },
  "cells": [
    {
      "cell_type": "markdown",
      "metadata": {
        "id": "EzPEMfReppQO"
      },
      "source": [
        "Team: Manasvi Malepati, Haritima Manchanda, Zihan Wu"
      ],
      "id": "EzPEMfReppQO"
    },
    {
      "cell_type": "code",
      "metadata": {
        "id": "gorgeous-people"
      },
      "source": [
        "import random\n",
        "random.seed(0)\n",
        "import pandas as pd\n",
        "import numpy as np\n",
        "np.random.seed(0)\n",
        "from scipy import stats\n",
        "import seaborn as sns\n",
        "import matplotlib.pyplot as plt\n",
        "from IPython.display import YouTubeVideo"
      ],
      "id": "gorgeous-people",
      "execution_count": 1,
      "outputs": []
    },
    {
      "cell_type": "markdown",
      "metadata": {
        "id": "green-activity"
      },
      "source": [
        "# Super Statistics\n",
        "\n",
        "This lesson is designed to orient you to statistical thinking and give you practice with Python's statistics library (`scipy`).\n",
        "\n",
        "The assignment will be a mixture of reading informative pages, watching videos, and answering questions. Please do your best and seek help as needed!\n",
        "\n",
        "### Learning Goals\n",
        "\n",
        "By the end of the lesson, students should be able to:\n",
        "\n",
        "* Part 1\n",
        "    * Explain the concept of probability vs. statistics\n",
        "* Part 2\n",
        "    * Generate data using a distribution function from `scipy`\n",
        "* Part 3\n",
        "    * Given a dataset, generate and interpret appropriate summary statistics using `scipy`\n",
        "    * Classify data as continuous, categorical, or binary\n",
        "    * Differentiate between paired and unpaired data\n",
        "    * Apply logarithms to manipulate a distribution\n",
        "* Part 4\n",
        "    * Determine the distribution of a dataset using `scipy`\n",
        "    * Describe and justify the use of parameteric vs. non-parameteric statistics\n",
        "* Part 5\n",
        "    * Create and interpret a statistical hypothesis\n",
        "    * Given a dataset, perform and interpret correlation analysis using `scipy`\n",
        "    * Given a hypothesis and dataset, perform and interpret an appropriate statistical test using `scipy`\n",
        "    * Explain the concept of statistical significance\n",
        "* Part 6\n",
        "    * Describe and explain the purpose of effect sizes\n",
        "    * Calculate an effect size\n",
        "\n",
        "### Caveat\n",
        "\n",
        "I want to start by admitting that I am not as good at statistics as I am at Computer Science. I did distinctly *okay* in my undergraduate statistics class. I would even say that I didn't genuinely learn statistics until I got to graduate school, and had my own datasets. However, that was the turning point - I suddenly understood things so much better when I had a context I cared about. Context is key to learning - I believe statistics is very challenging for many folks because they don't see how it applies to things they are interested in.\n",
        "\n",
        "You might walk into this assignment with more statistics knowledge than me, or alternatively you might be a complete novice. Either way, I'd like to make sure everyone leaves the assignment better than they were. This will probably include me, Dr. Bart. If you identify mistakes or errors, don't be afraid to raise them up in the Discord or the Ohyay. I am only human, this assignment was created in a single day, and I don't have a huge background in statistics. Errors or even misconceptions are likely! I'd rather we all collaboratively improve, then have been right.\n",
        "\n",
        "# Part 1) Basic Statistics\n",
        "\n",
        "Watch the following video, and then answer the following questions below.\n",
        "\n",
        "<https://youtu.be/PufDBlSsqys>"
      ],
      "id": "green-activity"
    },
    {
      "cell_type": "markdown",
      "metadata": {
        "id": "powered-floating"
      },
      "source": [
        "#### Q1.1)\n",
        "What is the difference between probablity and statistics? Define both terms clearly, especially in terms of their different goals."
      ],
      "id": "powered-floating"
    },
    {
      "cell_type": "markdown",
      "metadata": {
        "id": "cheap-terminal"
      },
      "source": [
        "Probability is a theoretical model and statistics deals with experimentally gathered data. Probability deals with possibilities, while statistics deals with data that is currently being gathered.\n"
      ],
      "id": "cheap-terminal"
    },
    {
      "cell_type": "markdown",
      "metadata": {
        "id": "searching-rachel"
      },
      "source": [
        "# Part 2) Distributions\n",
        "\n",
        "#### Q2.1)\n",
        "\n",
        "In statistics, what is a \"Random Variable\"? How is it different from an Algebraic Variable or a Computer Science Variable?"
      ],
      "id": "searching-rachel"
    },
    {
      "cell_type": "markdown",
      "metadata": {
        "id": "twenty-finland"
      },
      "source": [
        "A variable that can assume different values by chance in an experiment. It is different from an algebraic variable or a computer science variable because it depends on chance while for the other two you can change the values independently of chance. "
      ],
      "id": "twenty-finland"
    },
    {
      "cell_type": "markdown",
      "metadata": {
        "id": "environmental-alias"
      },
      "source": [
        "#### Q2.2)\n",
        "In statistics, what is a \"Probability Distribution\"?"
      ],
      "id": "environmental-alias"
    },
    {
      "cell_type": "markdown",
      "metadata": {
        "id": "deadly-smooth"
      },
      "source": [
        "A probability distribution is a statistical function that describes the possible values that the random variables can take."
      ],
      "id": "deadly-smooth"
    },
    {
      "cell_type": "markdown",
      "metadata": {
        "id": "pending-spirituality"
      },
      "source": [
        "#### Q2.3)\n",
        "\n",
        "In Discrete Math, what is a \"Function\"?"
      ],
      "id": "pending-spirituality"
    },
    {
      "cell_type": "markdown",
      "metadata": {
        "id": "uniform-budget"
      },
      "source": [
        "A function is a relationship from elements of one set of numbers to elements of another set. A function is a relation on two sets that for each element of the first set, there exists a corresponding unique value in the second set."
      ],
      "id": "uniform-budget"
    },
    {
      "cell_type": "markdown",
      "metadata": {
        "id": "spectacular-restoration"
      },
      "source": [
        "#### Q2.4)\n",
        "\n",
        "What is the relationship between a random variable and the concept of a \"nullary function\" like the following?"
      ],
      "id": "spectacular-restoration"
    },
    {
      "cell_type": "code",
      "metadata": {
        "id": "vital-public",
        "colab": {
          "base_uri": "https://localhost:8080/"
        },
        "outputId": "320cd4ac-1508-48a5-f291-4da71137ac05"
      },
      "source": [
        "def X(): return random.randint(0, 10)\n",
        "\n",
        "[X() for i in range(10)]"
      ],
      "id": "vital-public",
      "execution_count": 2,
      "outputs": [
        {
          "output_type": "execute_result",
          "data": {
            "text/plain": [
              "[6, 6, 0, 4, 8, 7, 6, 4, 7, 5]"
            ]
          },
          "metadata": {
            "tags": []
          },
          "execution_count": 2
        }
      ]
    },
    {
      "cell_type": "markdown",
      "metadata": {
        "id": "geological-arbor"
      },
      "source": [
        "In this case, the nullary function essentially returns random instances of one variable, making the function similar to a random variable since it returns a result that depends on chance."
      ],
      "id": "geological-arbor"
    },
    {
      "cell_type": "markdown",
      "metadata": {
        "id": "emotional-brown"
      },
      "source": [
        "#### Q2.5) \n",
        "What is the relationship between a distribution and a function?"
      ],
      "id": "emotional-brown"
    },
    {
      "cell_type": "markdown",
      "metadata": {
        "id": "subsequent-collection"
      },
      "source": [
        "A distribution is a function that can essentially generate other functions. So there are specific kinds of distributions, like a binomial distribution, which can vary in different ways. You get different functions based on this 'template' of a distribution."
      ],
      "id": "subsequent-collection"
    },
    {
      "cell_type": "markdown",
      "metadata": {
        "id": "czech-aaron"
      },
      "source": [
        "Watch the following video about different probability distributions:\n",
        "\n",
        "<https://youtu.be/b9a27XN_6tg>"
      ],
      "id": "czech-aaron"
    },
    {
      "cell_type": "markdown",
      "metadata": {
        "id": "rolled-portable"
      },
      "source": [
        "#### Q2.6)\n",
        "\n",
        "For each of the following probability distributions:\n",
        "\n",
        "1. Provide the name of the distribution\n",
        "2. Identify it as continuous, discrete, or both\n",
        "3. Provide a brief description of the distribution and what it is used for\n",
        "4. Find an example from the real world where this distribution occurs (not one presented in the video)\n",
        "5. Provide a link to the appropriate `scipy.stats` function\n",
        "6. Use the `scipy` module's distribution functions to create an visual example"
      ],
      "id": "rolled-portable"
    },
    {
      "cell_type": "markdown",
      "metadata": {
        "id": "joined-anderson"
      },
      "source": [
        "##### Uniform Distribution\n",
        "\n",
        "* Description: A random variable where all of outcomes are equally likely.\n",
        "* Kind: Can be both continuous or discrete\n",
        "* Example: Rolling a fair, six-sided die.\n",
        "* Link: [Continous](https://docs.scipy.org/doc/scipy/reference/generated/scipy.stats.uniform.html#scipy.stats.uniform), [Discrete](https://docs.scipy.org/doc/scipy/reference/generated/scipy.stats.randint.html)\n"
      ],
      "id": "joined-anderson"
    },
    {
      "cell_type": "code",
      "metadata": {
        "id": "modified-leonard",
        "colab": {
          "base_uri": "https://localhost:8080/",
          "height": 281
        },
        "outputId": "c0b55f0f-2b1b-416c-8d54-35096834f472"
      },
      "source": [
        "random_variables = stats.uniform.rvs(size=10000)\n",
        "plt.hist(random_variables)\n",
        "plt.title(\"Randomly Generated Uniform Distribution\")\n",
        "plt.show()"
      ],
      "id": "modified-leonard",
      "execution_count": 3,
      "outputs": [
        {
          "output_type": "display_data",
          "data": {
            "image/png": "[encoded data removed]",
            "text/plain": [
              "<Figure size 432x288 with 1 Axes>"
            ]
          },
          "metadata": {
            "tags": [],
            "needs_background": "light"
          }
        }
      ]
    },
    {
      "cell_type": "markdown",
      "metadata": {
        "id": "focused-upgrade"
      },
      "source": [
        "##### Bernouli Distribution"
      ],
      "id": "focused-upgrade"
    },
    {
      "cell_type": "markdown",
      "metadata": {
        "id": "employed-biology"
      },
      "source": [
        "* Description: A random variable where there are only two outcomes\n",
        "* Kind: Discrete\n",
        "* Example: Coin tossing and recording how many are heads vs tails.\n",
        "* Link: [Discrete](https://docs.scipy.org/doc/scipy/reference/generated/scipy.stats.bernoulli.html#scipy.stats.bernoulli)"
      ],
      "id": "employed-biology"
    },
    {
      "cell_type": "code",
      "metadata": {
        "id": "similar-proof",
        "colab": {
          "base_uri": "https://localhost:8080/",
          "height": 281
        },
        "outputId": "dc5efcec-577c-4f3c-a61c-165efae9cc09"
      },
      "source": [
        "random_variables = stats.bernoulli.rvs(.3, size=5000)\n",
        "plt.hist(random_variables)\n",
        "plt.title(\"Randomly Generated Bernouli Distribution\")\n",
        "plt.show()"
      ],
      "id": "similar-proof",
      "execution_count": 4,
      "outputs": [
        {
          "output_type": "display_data",
          "data": {
            "image/png": "[encoded data removed]",
            "text/plain": [
              "<Figure size 432x288 with 1 Axes>"
            ]
          },
          "metadata": {
            "tags": [],
            "needs_background": "light"
          }
        }
      ]
    },
    {
      "cell_type": "markdown",
      "metadata": {
        "id": "adverse-maximum"
      },
      "source": [
        "##### Binomial Distribution"
      ],
      "id": "adverse-maximum"
    },
    {
      "cell_type": "markdown",
      "metadata": {
        "id": "exempt-connectivity"
      },
      "source": [
        "* Description: Carrying out an experiment multiple times, and for each iteration of the experiment there can only be 2 outcomes and the same fixed number of trials.\n",
        "* Kind: Discrete\n",
        "* Example: Asking groups of 100 people if they voted or not. \n",
        "* Link: [Discrete](https://docs.scipy.org/doc/scipy/reference/generated/scipy.stats.binom.html#scipy.stats.binom)"
      ],
      "id": "exempt-connectivity"
    },
    {
      "cell_type": "code",
      "metadata": {
        "id": "international-eclipse",
        "colab": {
          "base_uri": "https://localhost:8080/",
          "height": 281
        },
        "outputId": "2042d540-6f24-40a3-ce78-11f74afbc732"
      },
      "source": [
        "random_variables = stats.binom.rvs(100, .4, size=5000)\n",
        "plt.hist(random_variables)\n",
        "plt.title(\"Randomly Generated Binomial Distribution\")\n",
        "plt.show()"
      ],
      "id": "international-eclipse",
      "execution_count": 5,
      "outputs": [
        {
          "output_type": "display_data",
          "data": {
            "image/png": "[encoded data removed]",
            "text/plain": [
              "<Figure size 432x288 with 1 Axes>"
            ]
          },
          "metadata": {
            "tags": [],
            "needs_background": "light"
          }
        }
      ]
    },
    {
      "cell_type": "markdown",
      "metadata": {
        "id": "middle-story"
      },
      "source": [
        "##### Poisson Distribution"
      ],
      "id": "middle-story"
    },
    {
      "cell_type": "markdown",
      "metadata": {
        "id": "indie-germany"
      },
      "source": [
        "* Description: Allows you to test out how unusual an event's frequency is for a given trial.\n",
        "* Kind: Discrete\n",
        "* Example: Can be used to find out how many fish die in a minute. \n",
        "* Link: [Discrete](https://docs.scipy.org/doc/scipy/reference/generated/scipy.stats.poisson.html)"
      ],
      "id": "indie-germany"
    },
    {
      "cell_type": "code",
      "metadata": {
        "id": "regional-talent",
        "colab": {
          "base_uri": "https://localhost:8080/",
          "height": 281
        },
        "outputId": "71bc35d0-657e-4f6d-8460-f216c98f32ec"
      },
      "source": [
        "from scipy.stats import poisson\n",
        "x = np.arange(0, 100, 1)\n",
        "y = poisson.pmf(x, mu=20, loc=30)\n",
        "  \n",
        "plt.title(\"Randomly Generated Poisson Distribution\")\n",
        "plt.plot(x, y)\n",
        "plt.show()"
      ],
      "id": "regional-talent",
      "execution_count": 32,
      "outputs": [
        {
          "output_type": "display_data",
          "data": {
            "image/png": "[encoded data removed]",
            "text/plain": [
              "<Figure size 432x288 with 1 Axes>"
            ]
          },
          "metadata": {
            "tags": [],
            "needs_background": "light"
          }
        }
      ]
    },
    {
      "cell_type": "markdown",
      "metadata": {
        "id": "disturbed-magnitude"
      },
      "source": [
        "##### Normal Distribution"
      ],
      "id": "disturbed-magnitude"
    },
    {
      "cell_type": "markdown",
      "metadata": {
        "id": "personalized-niger"
      },
      "source": [
        "* Description: The outcomes of many events in nature resemble this distribution.\n",
        "* Kind: Continous\n",
        "* Example: The heights of people ages 5-9.\n",
        "* Link: [Continous](https://docs.scipy.org/doc/scipy/reference/generated/scipy.stats.norm.html)"
      ],
      "id": "personalized-niger"
    },
    {
      "cell_type": "code",
      "metadata": {
        "id": "north-basics",
        "colab": {
          "base_uri": "https://localhost:8080/",
          "height": 281
        },
        "outputId": "d32c73ce-26ad-451e-c10b-92f603c2ff3d"
      },
      "source": [
        "\n",
        "normrandom_variables = stats.norm.rvs(size=10000)\n",
        "plt.hist(normrandom_variables)\n",
        "plt.title(\"Randomly Generated Normal Distribution\")\n",
        "plt.show()"
      ],
      "id": "north-basics",
      "execution_count": 7,
      "outputs": [
        {
          "output_type": "display_data",
          "data": {
            "image/png": "[encoded data removed]",
            "text/plain": [
              "<Figure size 432x288 with 1 Axes>"
            ]
          },
          "metadata": {
            "tags": [],
            "needs_background": "light"
          }
        }
      ]
    },
    {
      "cell_type": "markdown",
      "metadata": {
        "id": "solar-cleaner"
      },
      "source": [
        "##### Student's T Distribution"
      ],
      "id": "solar-cleaner"
    },
    {
      "cell_type": "markdown",
      "metadata": {
        "id": "damaged-priority"
      },
      "source": [
        "* Description: When you have limited data for events that resemble a normal distribution, you can use the Student's T Distribution, which is a small sample approximation of a normal distribution.\n",
        "* Kind: Continous\n",
        "* Example: The heights of people ages 5-9 who are in nearby schools. \n",
        "* Link: [Continous](https://docs.scipy.org/doc/scipy/reference/generated/scipy.stats.t.html)"
      ],
      "id": "damaged-priority"
    },
    {
      "cell_type": "code",
      "metadata": {
        "id": "beneficial-spanish",
        "colab": {
          "base_uri": "https://localhost:8080/",
          "height": 265
        },
        "outputId": "114d06a7-646c-43d0-d6cc-13c33d4be83e"
      },
      "source": [
        "fig, ax = plt.subplots(1, 1)\n",
        "df = 2.74\n",
        "mean, var, skew, kurt = stats.t.stats(df, moments='mvsk')\n",
        "x = np.linspace(stats.t.ppf(0.01, df),\n",
        "                stats.t.ppf(0.99, df), 100)\n",
        "ax.plot(x, stats.t.pdf(x, df),\n",
        "       'r-', lw=5, alpha=0.6, label='t pdf')\n",
        "plt.show()"
      ],
      "id": "beneficial-spanish",
      "execution_count": 8,
      "outputs": [
        {
          "output_type": "display_data",
          "data": {
            "image/png": "[encoded data removed]",
            "text/plain": [
              "<Figure size 432x288 with 1 Axes>"
            ]
          },
          "metadata": {
            "tags": [],
            "needs_background": "light"
          }
        }
      ]
    },
    {
      "cell_type": "markdown",
      "metadata": {
        "id": "sharing-teach"
      },
      "source": [
        "##### Chi-Squared Distribution"
      ],
      "id": "sharing-teach"
    },
    {
      "cell_type": "markdown",
      "metadata": {
        "id": "balanced-discrimination"
      },
      "source": [
        "* Description: A continuous distribution with non-negative values and is used in hypothesis testing for goodness of fit.\n",
        "* Kind: Continous\n",
        "* Example: Does not exist in real life.\n",
        "* Link: [Continous](https://docs.scipy.org/doc/scipy/reference/generated/scipy.stats.chisquare.html)"
      ],
      "id": "balanced-discrimination"
    },
    {
      "cell_type": "code",
      "metadata": {
        "id": "architectural-switzerland",
        "colab": {
          "base_uri": "https://localhost:8080/",
          "height": 281
        },
        "outputId": "91d28450-afd6-4915-b7a2-1cc4190460ba"
      },
      "source": [
        "import numpy as np\n",
        "from scipy.stats import chi2 \n",
        "numargs = chi2.numargs\n",
        "[a] = [0.6, ] * numargs\n",
        "random_variable = stats.chi2.rvs(a, scale = 2,  size = 1000)\n",
        "plt.hist(random_variable)\n",
        "plt.title(\"Randomly Generated Chi-Squared Distribution\")\n",
        "plt.show()"
      ],
      "id": "architectural-switzerland",
      "execution_count": 9,
      "outputs": [
        {
          "output_type": "display_data",
          "data": {
            "image/png": "[encoded data removed]",
            "text/plain": [
              "<Figure size 432x288 with 1 Axes>"
            ]
          },
          "metadata": {
            "tags": [],
            "needs_background": "light"
          }
        }
      ]
    },
    {
      "cell_type": "markdown",
      "metadata": {
        "id": "affected-teddy"
      },
      "source": [
        "##### Exponential Distribution"
      ],
      "id": "affected-teddy"
    },
    {
      "cell_type": "markdown",
      "metadata": {
        "id": "retained-probe"
      },
      "source": [
        "* Description: A distribution that depicts events that rapidly change early on.\n",
        "* Kind: Continous\n",
        "* Example: Half lives in radioactive decay.\n",
        "* Link: [Continous](https://docs.scipy.org/doc/scipy/reference/generated/scipy.stats.expon.html)\n",
        "\n"
      ],
      "id": "retained-probe"
    },
    {
      "cell_type": "code",
      "metadata": {
        "id": "frequent-bulgarian",
        "colab": {
          "base_uri": "https://localhost:8080/",
          "height": 281
        },
        "outputId": "eaaf0bd6-c6b0-4336-d77c-8b6de373de9b"
      },
      "source": [
        "from scipy.stats import expon\n",
        "random_v = expon.rvs(size=2000)\n",
        "plt.hist(random_v)\n",
        "plt.title(\"Randomly Generated Exponential Distribution\")\n",
        "plt.show()"
      ],
      "id": "frequent-bulgarian",
      "execution_count": 10,
      "outputs": [
        {
          "output_type": "display_data",
          "data": {
            "image/png": "[encoded data removed]",
            "text/plain": [
              "<Figure size 432x288 with 1 Axes>"
            ]
          },
          "metadata": {
            "tags": [],
            "needs_background": "light"
          }
        }
      ]
    },
    {
      "cell_type": "markdown",
      "metadata": {
        "id": "lovely-helena"
      },
      "source": [
        "##### Logistic Distribution"
      ],
      "id": "lovely-helena"
    },
    {
      "cell_type": "markdown",
      "metadata": {
        "id": "standard-surfing"
      },
      "source": [
        "* Description: Used in forecast analysis to determine a cutoff point for a successful outcome.\n",
        "* Kind: Continous\n",
        "* Example: COVID-19's future progression.\n",
        "* Link: [Continous](https://docs.scipy.org/doc/scipy/reference/generated/scipy.stats.logistic.html)\n"
      ],
      "id": "standard-surfing"
    },
    {
      "cell_type": "code",
      "metadata": {
        "id": "weekly-channels",
        "colab": {
          "base_uri": "https://localhost:8080/",
          "height": 281
        },
        "outputId": "7cf8ae3e-02f5-45c1-82d7-0db3868237ba"
      },
      "source": [
        "from scipy.stats import logistic\n",
        "r = logistic.rvs(size=2000)\n",
        "plt.hist(r)\n",
        "plt.title(\"Randomly Generated Logistic Distribution\")\n",
        "plt.show()"
      ],
      "id": "weekly-channels",
      "execution_count": 11,
      "outputs": [
        {
          "output_type": "display_data",
          "data": {
            "image/png": "[encoded data removed]",
            "text/plain": [
              "<Figure size 432x288 with 1 Axes>"
            ]
          },
          "metadata": {
            "tags": [],
            "needs_background": "light"
          }
        }
      ]
    },
    {
      "cell_type": "markdown",
      "metadata": {
        "id": "neutral-helen"
      },
      "source": [
        "# Part 3) Summary Stats\n",
        "\n",
        "For this section, you will need to use Google and ask questions."
      ],
      "id": "neutral-helen"
    },
    {
      "cell_type": "markdown",
      "metadata": {
        "id": "motivated-blink"
      },
      "source": [
        "#### Q3.1)\n",
        "When should you use mean vs. median?"
      ],
      "id": "motivated-blink"
    },
    {
      "cell_type": "markdown",
      "metadata": {
        "id": "legislative-distance"
      },
      "source": [
        "Use mean when there are few outliers. And use median when the data is more skewed and has more outliers."
      ],
      "id": "legislative-distance"
    },
    {
      "cell_type": "markdown",
      "metadata": {
        "id": "shaped-arbor"
      },
      "source": [
        "#### Q3.2)\n",
        "What is the standard deviation and variance?"
      ],
      "id": "shaped-arbor"
    },
    {
      "cell_type": "markdown",
      "metadata": {
        "id": "distributed-colombia"
      },
      "source": [
        "The variance is the average squared difference of each number from the mean, and standard deviation is the square root of that. Variance is a measure of spread and is usually more useful mathematically. Standard deviation represents the typical deviation from the mean and is often used for analysis. "
      ],
      "id": "distributed-colombia"
    },
    {
      "cell_type": "markdown",
      "metadata": {
        "id": "insured-biodiversity"
      },
      "source": [
        "#### Q3.3)\n",
        "\n",
        "Describe the tradeoffs between providing the standard deviation/variance vs. the 5-number summary. "
      ],
      "id": "insured-biodiversity"
    },
    {
      "cell_type": "markdown",
      "metadata": {
        "id": "downtown-sphere"
      },
      "source": [
        "While standard deviation/variance can describe the overall distribution of the dataset in relation to the mean, it is not useful in picturing the dataset's distribution, while the 5 number summary can provide visualization of the dataset's distribution"
      ],
      "id": "downtown-sphere"
    },
    {
      "cell_type": "markdown",
      "metadata": {
        "id": "painful-immigration"
      },
      "source": [
        "#### Q3.4)\n",
        "\n",
        "What is skew? Can a skewed dataset still be normally distributed?"
      ],
      "id": "painful-immigration"
    },
    {
      "cell_type": "markdown",
      "metadata": {
        "id": "binding-checkout"
      },
      "source": [
        "A skew is where the majority of the distribution is seen to be, usually either to the right and/or left of the middle values. A skewed dataset cannot be normally distributed since a normal distribution has a skew of zero."
      ],
      "id": "binding-checkout"
    },
    {
      "cell_type": "markdown",
      "metadata": {
        "id": "successful-maker"
      },
      "source": [
        "#### Q3.5)\n",
        "What is a frequency table? How is it useful for describing data?"
      ],
      "id": "successful-maker"
    },
    {
      "cell_type": "markdown",
      "metadata": {
        "id": "zTSgIlKVL93E"
      },
      "source": [
        "A frequency table contains ranges of numbers like [0-10) and the number of values within the data that fall into those ranges. It is useful in understanding the distribution of the data value according to those ranges"
      ],
      "id": "zTSgIlKVL93E"
    },
    {
      "cell_type": "markdown",
      "metadata": {
        "id": "compact-harmony"
      },
      "source": [
        "#### Q3.6)\n",
        "\n",
        "Observe the data shown below and classify each column shown below as either: nominal, binary, ordinal, or quantitative."
      ],
      "id": "compact-harmony"
    },
    {
      "cell_type": "code",
      "metadata": {
        "id": "choice-scanner",
        "colab": {
          "base_uri": "https://localhost:8080/",
          "height": 195
        },
        "outputId": "4bfa31cf-e551-4929-f9c2-faf13cf56916"
      },
      "source": [
        "skyscrapers_full = pd.read_csv(\"https://corgis-edu.github.io/corgis/datasets/csv/skyscrapers/skyscrapers.csv\")\n",
        "# You can ignore how we calculate the fields, though it might help you understand it better\n",
        "skyscrapers_full['tall?'] = skyscrapers_full['statistics.height'] > 100\n",
        "skyscrapers_full['development.phase'] = skyscrapers_full['status.current'].map(lambda s: 3 if s in ('completed', 'demolished')\n",
        "                                                                                         else 1 if s in ('proposed', 'vision')\n",
        "                                                                                         else 2)\n",
        "skyscrapers = skyscrapers_full[['id', 'material', 'name', 'development.phase',\n",
        "                                'location.city', 'location.latitude', 'location.longitude',\n",
        "                                'statistics.height', 'tall?']]\n",
        "skyscrapers.head()"
      ],
      "id": "choice-scanner",
      "execution_count": 12,
      "outputs": [
        {
          "output_type": "execute_result",
          "data": {
            "text/html": [
              "<div>\n",
              "<style scoped>\n",
              "    .dataframe tbody tr th:only-of-type {\n",
              "        vertical-align: middle;\n",
              "    }\n",
              "\n",
              "    .dataframe tbody tr th {\n",
              "        vertical-align: top;\n",
              "    }\n",
              "\n",
              "    .dataframe thead th {\n",
              "        text-align: right;\n",
              "    }\n",
              "</style>\n",
              "<table border=\"1\" class=\"dataframe\">\n",
              "  <thead>\n",
              "    <tr style=\"text-align: right;\">\n",
              "      <th></th>\n",
              "      <th>id</th>\n",
              "      <th>material</th>\n",
              "      <th>name</th>\n",
              "      <th>development.phase</th>\n",
              "      <th>location.city</th>\n",
              "      <th>location.latitude</th>\n",
              "      <th>location.longitude</th>\n",
              "      <th>statistics.height</th>\n",
              "      <th>tall?</th>\n",
              "    </tr>\n",
              "  </thead>\n",
              "  <tbody>\n",
              "    <tr>\n",
              "      <th>0</th>\n",
              "      <td>12</td>\n",
              "      <td>steel</td>\n",
              "      <td>The Illinois</td>\n",
              "      <td>1</td>\n",
              "      <td>Chicago</td>\n",
              "      <td>0.000000</td>\n",
              "      <td>0.000000</td>\n",
              "      <td>1609.359985</td>\n",
              "      <td>True</td>\n",
              "    </tr>\n",
              "    <tr>\n",
              "      <th>1</th>\n",
              "      <td>62</td>\n",
              "      <td>composite</td>\n",
              "      <td>Chicago Spire</td>\n",
              "      <td>2</td>\n",
              "      <td>Chicago</td>\n",
              "      <td>41.889889</td>\n",
              "      <td>-87.614861</td>\n",
              "      <td>609.599976</td>\n",
              "      <td>True</td>\n",
              "    </tr>\n",
              "    <tr>\n",
              "      <th>2</th>\n",
              "      <td>68</td>\n",
              "      <td>composite</td>\n",
              "      <td>Miglin-Beitler Skyneedle</td>\n",
              "      <td>1</td>\n",
              "      <td>Chicago</td>\n",
              "      <td>41.881618</td>\n",
              "      <td>-87.634354</td>\n",
              "      <td>609.489990</td>\n",
              "      <td>True</td>\n",
              "    </tr>\n",
              "    <tr>\n",
              "      <th>3</th>\n",
              "      <td>98</td>\n",
              "      <td>composite</td>\n",
              "      <td>One World Trade Center</td>\n",
              "      <td>3</td>\n",
              "      <td>New York City</td>\n",
              "      <td>40.713112</td>\n",
              "      <td>-74.013351</td>\n",
              "      <td>541.299988</td>\n",
              "      <td>True</td>\n",
              "    </tr>\n",
              "    <tr>\n",
              "      <th>4</th>\n",
              "      <td>14269</td>\n",
              "      <td>concrete</td>\n",
              "      <td>Central Park Tower</td>\n",
              "      <td>2</td>\n",
              "      <td>New York City</td>\n",
              "      <td>40.766361</td>\n",
              "      <td>-73.980949</td>\n",
              "      <td>541.020020</td>\n",
              "      <td>True</td>\n",
              "    </tr>\n",
              "  </tbody>\n",
              "</table>\n",
              "</div>"
            ],
            "text/plain": [
              "      id   material  ... statistics.height  tall?\n",
              "0     12      steel  ...       1609.359985   True\n",
              "1     62  composite  ...        609.599976   True\n",
              "2     68  composite  ...        609.489990   True\n",
              "3     98  composite  ...        541.299988   True\n",
              "4  14269   concrete  ...        541.020020   True\n",
              "\n",
              "[5 rows x 9 columns]"
            ]
          },
          "metadata": {
            "tags": []
          },
          "execution_count": 12
        }
      ]
    },
    {
      "cell_type": "markdown",
      "metadata": {
        "id": "favorite-device"
      },
      "source": [
        "* `id`: Ordinal\n",
        "* `material`: Nominal\n",
        "* `name`: Nominal\n",
        "* `development.phase`: Nominal\n",
        "* `location.city`: Nominal\n",
        "* `location.latitude`: Quantitative\n",
        "* `location.longitude`: Quantitative\n",
        "* `statistics.height`: Quantitative\n",
        "* `tall?`: Binary"
      ],
      "id": "favorite-device"
    },
    {
      "cell_type": "markdown",
      "metadata": {
        "id": "ahead-paradise"
      },
      "source": [
        "#### Q3.7)\n",
        "\n",
        "For each column in the dataset above, provide appropriate summary statistics in whatever way makes the most sense to concisely describe the data."
      ],
      "id": "ahead-paradise"
    },
    {
      "cell_type": "code",
      "metadata": {
        "id": "editorial-supplier",
        "colab": {
          "base_uri": "https://localhost:8080/"
        },
        "outputId": "3393936a-ca93-4434-9dba-3c243f2a1c90"
      },
      "source": [
        "print(\"ID:\")\n",
        "#Count the number of unique IDs\n",
        "print(str(skyscrapers[\"id\"].nunique()) + \" unique IDs\")\n",
        "\n",
        "print(\"\\nMaterial:\")\n",
        "#Number of each material\n",
        "print( skyscrapers['material'].value_counts() )\n",
        "\n",
        "print(\"\\nName:\")\n",
        "#Count the number of names, group by name, frequency\n",
        "print( skyscrapers['name'].value_counts() )\n",
        "\n",
        "print(\"\\nDevelopment Phase:\")\n",
        "#Group by, frequency (number of each type)\n",
        "print( skyscrapers['development.phase'].value_counts() )\n",
        "\n",
        "print(\"\\nLocation (City):\")\n",
        "#Number of each city\n",
        "print( skyscrapers['location.city'].value_counts() )\n",
        "\n",
        "print(\"\\nLocation (Latitude):\")\n",
        "#Mean, median, mode\n",
        "print( \"Mean latitude: \" + str(skyscrapers['location.latitude'].mean()) )\n",
        "\n",
        "print(\"\\nLocation (Longitude):\")\n",
        "#Mean, median, mode\n",
        "print( \"Mean longitude: \" + str(skyscrapers['location.longitude'].mean()) )\n",
        "\n",
        "print(\"\\nHeight:\")\n",
        "#Mean, median, mode, range, variance\n",
        "print(skyscrapers['statistics.height'].describe())\n",
        "\n",
        "print(\"\\nTall Buildings:\")\n",
        "#Frequency of true or false\n",
        "print(skyscrapers['tall?'].value_counts())"
      ],
      "id": "editorial-supplier",
      "execution_count": 61,
      "outputs": [
        {
          "output_type": "stream",
          "text": [
            "ID:\n",
            "2431 unique IDs\n",
            "\n",
            "Material:\n",
            "concrete          1366\n",
            "steel              875\n",
            "composite          123\n",
            "steel/concrete      33\n",
            "concrete/steel      22\n",
            "masonry              9\n",
            "precast              3\n",
            "Name: material, dtype: int64\n",
            "\n",
            "Name:\n",
            "Bank of America Plaza             5\n",
            "Wells Fargo Center                5\n",
            "Park Tower                        4\n",
            "The Carlyle                       4\n",
            "Bank of America Building          4\n",
            "                                 ..\n",
            "Reynolds Building                 1\n",
            "15th and Island Tower 2           1\n",
            "Quantum on the Bay North Tower    1\n",
            "William Green Building            1\n",
            "One Wall Street                   1\n",
            "Name: name, Length: 2356, dtype: int64\n",
            "\n",
            "Development Phase:\n",
            "3    2116\n",
            "2     200\n",
            "1     115\n",
            "Name: development.phase, dtype: int64\n",
            "\n",
            "Location (City):\n",
            "New York City      640\n",
            "Chicago            419\n",
            "Miami              130\n",
            "San Francisco       68\n",
            "Houston             68\n",
            "                  ... \n",
            "La Porte             1\n",
            "Glendale             1\n",
            "Royal Oak            1\n",
            "Harrisburg           1\n",
            "Portsmouth (RI)      1\n",
            "Name: location.city, Length: 160, dtype: int64\n",
            "\n",
            "Location (Latitude):\n",
            "Mean latitude: 36.97199226749723\n",
            "\n",
            "Location (Longitude):\n",
            "Mean longitude: -86.32146325183965\n",
            "\n",
            "Height:\n",
            "count    2431.000000\n",
            "mean      132.445401\n",
            "std        67.825184\n",
            "min         0.000000\n",
            "25%        99.000000\n",
            "50%       124.000000\n",
            "75%       156.970001\n",
            "max      1609.359985\n",
            "Name: statistics.height, dtype: float64\n",
            "\n",
            "Tall Buildings:\n",
            "True     1790\n",
            "False     641\n",
            "Name: tall?, dtype: int64\n"
          ],
          "name": "stdout"
        }
      ]
    },
    {
      "cell_type": "markdown",
      "metadata": {
        "id": "brazilian-roads"
      },
      "source": [
        "#### Q3.8)\n",
        "\n",
        "Classify each of the following scenarios as \"paired\" or \"unpaired\" data.\n",
        "\n",
        "1. We draw two random samples from the complete set of skyscrapers. Both samples have 100 skyscrapers."
      ],
      "id": "brazilian-roads"
    },
    {
      "cell_type": "markdown",
      "metadata": {
        "id": "insured-letters"
      },
      "source": [
        "Unpaired"
      ],
      "id": "insured-letters"
    },
    {
      "cell_type": "markdown",
      "metadata": {
        "id": "traditional-brook"
      },
      "source": [
        "2. We collect a new version of the dataset, updating the `\"development.phase\"` value in order to compare it to the old value."
      ],
      "id": "traditional-brook"
    },
    {
      "cell_type": "markdown",
      "metadata": {
        "id": "successful-flooring"
      },
      "source": [
        "Paired"
      ],
      "id": "successful-flooring"
    },
    {
      "cell_type": "markdown",
      "metadata": {
        "id": "stretch-blind"
      },
      "source": [
        "3. We collect data about the architectures of each building, in order to see if there a relationship between the builder's age and the height of the building."
      ],
      "id": "stretch-blind"
    },
    {
      "cell_type": "markdown",
      "metadata": {
        "id": "behind-thousand"
      },
      "source": [
        "Paired"
      ],
      "id": "behind-thousand"
    },
    {
      "cell_type": "markdown",
      "metadata": {
        "id": "interior-lying"
      },
      "source": [
        "# Part 4) Normality Checks"
      ],
      "id": "interior-lying"
    },
    {
      "cell_type": "markdown",
      "metadata": {
        "id": "american-moscow"
      },
      "source": [
        "Read the following page about normality tests:\n",
        "\n",
        "https://machinelearningmastery.com/a-gentle-introduction-to-normality-tests-in-python/\n"
      ],
      "id": "american-moscow"
    },
    {
      "cell_type": "markdown",
      "metadata": {
        "id": "freelance-positive"
      },
      "source": [
        "#### Q4.1)\n",
        "\n",
        "Some skyscrapers are much taller than most skyscrapers. Demonstrate this by creating a Histogram of that data."
      ],
      "id": "freelance-positive"
    },
    {
      "cell_type": "code",
      "metadata": {
        "id": "viral-thousand",
        "colab": {
          "base_uri": "https://localhost:8080/",
          "height": 265
        },
        "outputId": "9c0685d8-a43c-4602-b1e1-ac1a0dfceb60"
      },
      "source": [
        "data = skyscrapers['statistics.height']\n",
        "# ...\n",
        "\n",
        "plt.hist(data)\n",
        "plt.show()"
      ],
      "id": "viral-thousand",
      "execution_count": 14,
      "outputs": [
        {
          "output_type": "display_data",
          "data": {
            "image/png": "[encoded data removed]",
            "text/plain": [
              "<Figure size 432x288 with 1 Axes>"
            ]
          },
          "metadata": {
            "tags": [],
            "needs_background": "light"
          }
        }
      ]
    },
    {
      "cell_type": "markdown",
      "metadata": {
        "id": "exterior-tomato"
      },
      "source": [
        "#### Q4.2)\n",
        "\n",
        "Logarithmic transformations are often used in situations like this to make the visualizations easier to read.\n",
        "Why?"
      ],
      "id": "exterior-tomato"
    },
    {
      "cell_type": "markdown",
      "metadata": {
        "id": "nearby-soldier"
      },
      "source": [
        "Logarithmic transformations can make the distribution less skewed which can help us see patterns in the data that were harder to see before, like with the outliers above."
      ],
      "id": "nearby-soldier"
    },
    {
      "cell_type": "markdown",
      "metadata": {
        "id": "adjustable-cover"
      },
      "source": [
        "#### Q4.3)\n",
        "\n",
        "Create a new version of your visualization that is log transformed, by manipulating the data.\n",
        "\n",
        "Hints:\n",
        "* You might find it helpful to increase the number of bins in the final version to produce a nicer looking graph.\n",
        "* Some of the data is dirty - remove zeroes!"
      ],
      "id": "adjustable-cover"
    },
    {
      "cell_type": "code",
      "metadata": {
        "id": "exact-discovery",
        "colab": {
          "base_uri": "https://localhost:8080/",
          "height": 270
        },
        "outputId": "c446a0ea-7cc3-48a7-a522-428e04f71f92"
      },
      "source": [
        "data = skyscrapers['statistics.height']\n",
        "# ...\n",
        "data = list(filter(lambda a: a != 0, data))\n",
        "plt.hist(data, bins=50)\n",
        "plt.yscale(\"log\")\n",
        "plt.show()"
      ],
      "id": "exact-discovery",
      "execution_count": 15,
      "outputs": [
        {
          "output_type": "display_data",
          "data": {
            "image/png": "[encoded data removed]",
            "text/plain": [
              "<Figure size 432x288 with 1 Axes>"
            ]
          },
          "metadata": {
            "tags": [],
            "needs_background": "light"
          }
        }
      ]
    },
    {
      "cell_type": "markdown",
      "metadata": {
        "id": "quiet-patrick"
      },
      "source": [
        "#### Q4.4)\n",
        "\n",
        "We wish to know if the data is now normally distributed. You can use a Shapiro Wilks test in `scipy.stats` to determine if a distribution is normal. This is demonstrated below."
      ],
      "id": "quiet-patrick"
    },
    {
      "cell_type": "code",
      "metadata": {
        "id": "blessed-aviation",
        "colab": {
          "base_uri": "https://localhost:8080/",
          "height": 0
        },
        "outputId": "a2e486f0-c577-4ec7-953b-fcf291a41bc7"
      },
      "source": [
        "# Mean of 50, standard deviation of 10, create 100 numbers\n",
        "normal_values = stats.norm.rvs(loc=50, scale=10, size=100)\n",
        "plt.hist(normal_values)\n",
        "plt.title(\"Normal Distribution with Mean of 50\")\n",
        "plt.ylabel(\"Frequency\")\n",
        "plt.show()\n",
        "\n",
        "test_statistic, p_value = stats.shapiro(normal_values)\n",
        "print(\"Normally Distributed Values:\", test_statistic, p_value, p_value < .05)\n",
        "print(\"Since the pvalue is greater than 0.05, we accept the null hypothesis that it is normally distributed.\")\n",
        "\n",
        "# Mean of 50, standard deviation of 10, create 100 numbers\n",
        "normal_values = stats.randint.rvs(low=0, high=100, size=100)\n",
        "plt.hist(normal_values)\n",
        "plt.title(\"Random Distribution\")\n",
        "plt.ylabel(\"Frequency\")\n",
        "plt.show()\n",
        "\n",
        "test_statistic, p_value = stats.shapiro(normal_values)\n",
        "print(\"Random Values:\", test_statistic, p_value, p_value < .05)\n",
        "print(\"Since the pvalue is less than 0.05, we reject the null hypothesis that it is normally distributed.\")"
      ],
      "id": "blessed-aviation",
      "execution_count": 16,
      "outputs": [
        {
          "output_type": "display_data",
          "data": {
            "image/png": "[encoded data removed]",
            "text/plain": [
              "<Figure size 432x288 with 1 Axes>"
            ]
          },
          "metadata": {
            "tags": [],
            "needs_background": "light"
          }
        },
        {
          "output_type": "stream",
          "text": [
            "Normally Distributed Values: 0.990717351436615 0.7224592566490173 False\n",
            "Since the pvalue is greater than 0.05, we accept the null hypothesis that it is normally distributed.\n"
          ],
          "name": "stdout"
        },
        {
          "output_type": "display_data",
          "data": {
            "image/png": "[encoded data removed]",
            "text/plain": [
              "<Figure size 432x288 with 1 Axes>"
            ]
          },
          "metadata": {
            "tags": [],
            "needs_background": "light"
          }
        },
        {
          "output_type": "stream",
          "text": [
            "Random Values: 0.9612444043159485 0.004937500227242708 True\n",
            "Since the pvalue is less than 0.05, we reject the null hypothesis that it is normally distributed.\n"
          ],
          "name": "stdout"
        }
      ]
    },
    {
      "cell_type": "markdown",
      "metadata": {
        "id": "ordinary-immigration"
      },
      "source": [
        "Building off our example, determine if:\n",
        "\n",
        "1. The original untransformed heights follow a normal distribution.\n",
        "2. The log-transformed heights follow a normal distribution.\n",
        "\n",
        "Be sure to use an appropriate test."
      ],
      "id": "ordinary-immigration"
    },
    {
      "cell_type": "code",
      "metadata": {
        "id": "indonesian-ideal",
        "colab": {
          "base_uri": "https://localhost:8080/"
        },
        "outputId": "bd661c96-608a-4e8c-ec23-7738aa2ee694"
      },
      "source": [
        "data_regular = skyscrapers['statistics.height']\n",
        "test_statistic, p_value = stats.shapiro(data_regular)\n",
        "print(\"Untransformed Heights:\", test_statistic, p_value, p_value < .05)\n",
        "print(\"Since the pvalue is less than 0.05, we reject the null hypothesis that it is normally distributed.\")\n",
        "data_log = np.log(list(filter(lambda a: a != 0, data_regular)))\n",
        "test_statistic, p_value = stats.shapiro(data_log)\n",
        "print(\"Log-transformed Heights:\", test_statistic, p_value, p_value < .05)\n",
        "print(\"Since the pvalue is less than 0.05, we reject the null hypothesis that it is normally distributed.\")"
      ],
      "id": "indonesian-ideal",
      "execution_count": 17,
      "outputs": [
        {
          "output_type": "stream",
          "text": [
            "Untransformed Heights: 0.7651559710502625 0.0 True\n",
            "Since the pvalue is less than 0.05, we reject the null hypothesis that it is normally distributed.\n",
            "Log-transformed Heights: 0.9857640862464905 1.4447437793633708e-14 True\n",
            "Since the pvalue is less than 0.05, we reject the null hypothesis that it is normally distributed.\n"
          ],
          "name": "stdout"
        }
      ]
    },
    {
      "cell_type": "markdown",
      "metadata": {
        "id": "excess-spider"
      },
      "source": [
        "#### Q4.5)\n",
        "\n",
        "Would it be appropriate to use parameteric statistics on this data?"
      ],
      "id": "excess-spider"
    },
    {
      "cell_type": "markdown",
      "metadata": {
        "id": "encouraging-money"
      },
      "source": [
        "No because the shape of the distribution is not normal, so we would not be able to use parameteric statistics since you would have to assume normality in order to use them."
      ],
      "id": "encouraging-money"
    },
    {
      "cell_type": "markdown",
      "metadata": {
        "id": "theoretical-court"
      },
      "source": [
        "# Part 5) Correlation Analysis\n",
        "\n",
        "Read over the following page: https://www.ncbi.nlm.nih.gov/pmc/articles/PMC2996580/"
      ],
      "id": "theoretical-court"
    },
    {
      "cell_type": "markdown",
      "metadata": {
        "id": "quality-chart"
      },
      "source": [
        "#### Q5.1)\n",
        "\n",
        "In your own words, define the following terms:\n",
        "\n",
        "1) Hypothesis"
      ],
      "id": "quality-chart"
    },
    {
      "cell_type": "markdown",
      "metadata": {
        "id": "aging-apparel"
      },
      "source": [
        "A statement about the population that can either be rejected or accepted"
      ],
      "id": "aging-apparel"
    },
    {
      "cell_type": "markdown",
      "metadata": {
        "id": "developmental-emergency"
      },
      "source": [
        "2) Hypothesis Test"
      ],
      "id": "developmental-emergency"
    },
    {
      "cell_type": "markdown",
      "metadata": {
        "id": "urban-reduction"
      },
      "source": [
        "An act where we test our assumption about the population (our hypothesis)."
      ],
      "id": "urban-reduction"
    },
    {
      "cell_type": "markdown",
      "metadata": {
        "id": "polish-corrections"
      },
      "source": [
        "3) P-value"
      ],
      "id": "polish-corrections"
    },
    {
      "cell_type": "markdown",
      "metadata": {
        "id": "behind-speed"
      },
      "source": [
        "The p-value tells us whether our test results were statistically significant or not. A small p-value less than the level of significance tells us the results were significant and we should reject our null hypothesis. "
      ],
      "id": "behind-speed"
    },
    {
      "cell_type": "markdown",
      "metadata": {
        "id": "powerful-reaction"
      },
      "source": [
        "4) Null Hypothesis"
      ],
      "id": "powerful-reaction"
    },
    {
      "cell_type": "markdown",
      "metadata": {
        "id": "controlled-republic"
      },
      "source": [
        "When comparing two groups, the null hypothesis states that there is no significant difference between the two groups. "
      ],
      "id": "controlled-republic"
    },
    {
      "cell_type": "markdown",
      "metadata": {
        "id": "surface-recommendation"
      },
      "source": [
        "5. \"Approaching Significance\" (read over [this webpage](https://mchankins.wordpress.com/2013/04/21/still-not-significant-2/))"
      ],
      "id": "surface-recommendation"
    },
    {
      "cell_type": "markdown",
      "metadata": {
        "id": "human-little"
      },
      "source": [
        "This is when the p-value is not significant but is close to the alpha value that was picked. "
      ],
      "id": "human-little"
    },
    {
      "cell_type": "markdown",
      "metadata": {
        "id": "architectural-factory"
      },
      "source": [
        "#### Q5.2)\n",
        "\n",
        "Make a list of all the criteria you should consider when choosing an appropriate statistical test.\n",
        "Additionally, embed a flowchart that can help visually demonstrate the critiera you should use."
      ],
      "id": "architectural-factory"
    },
    {
      "cell_type": "markdown",
      "metadata": {
        "id": "chubby-spokesman"
      },
      "source": [
        "1. Data Type\n",
        "2. Number of variables\n",
        "3. Paired vs. Independent\n",
        "4. Known vs. Unknown Standard Deviation \n",
        "![](https://miro.medium.com/max/7800/1*NILL_3EnEckFsQ6Hy06EHg.png\n",
        ")\n",
        "..."
      ],
      "id": "chubby-spokesman"
    },
    {
      "cell_type": "markdown",
      "metadata": {
        "id": "dietary-opinion"
      },
      "source": [
        "#### Q5.3)\n",
        "\n",
        "For each of the following statistical test functions from `scipy`, provide the following information:\n",
        "\n",
        "* Function: The name of the function in Scipy\n",
        "* Link: The URL to the documentation of the test.\n",
        "* Test: A more human-readable name of the test\n",
        "* Description: A quick one-sentence description of the test indicating clearly what it is used for\n",
        "* Assumptions: A list of any assumptions made by the test.\n",
        "* Example: An example of how you might use this test"
      ],
      "id": "dietary-opinion"
    },
    {
      "cell_type": "markdown",
      "metadata": {
        "id": "moderate-policy"
      },
      "source": [
        "##### f_oneway\n",
        "\n",
        "* Function: `f_oneway`\n",
        "* Link: https://docs.scipy.org/doc/scipy/reference/generated/scipy.stats.f_oneway.html\n",
        "* Test: One-way ANOVA\n",
        "* Description: A parametric test for 2+ independent samples to determine if they have the same population mean. \n",
        "* Assumptions:\n",
        "    * Samples must be independent\n",
        "    * Population is normally distributed\n",
        "    * Populations' standard deviations are equal\n",
        "* Example: Take a big group of students, break them up by gender, and see if their heights differ by gender."
      ],
      "id": "moderate-policy"
    },
    {
      "cell_type": "markdown",
      "metadata": {
        "id": "irish-instrument"
      },
      "source": [
        "##### pearsonr\n",
        "\n",
        "* Function: `pearsonr`\n",
        "* Link: https://docs.scipy.org/doc/scipy/reference/generated/scipy.stats.pearsonr.html\n",
        "* Test: Pearson correlation\n",
        "* Description: Measures the linear relationship between two datasets. r closer to -1 or 1 means more strongly correlated.\n",
        "* Assumptions:\n",
        "  * Each dataset is normally distributed\n",
        "  * Both variables are continuous \n",
        "* Example: Test if the weight and height of a sample of teenagers is linearly related. "
      ],
      "id": "irish-instrument"
    },
    {
      "cell_type": "markdown",
      "metadata": {
        "id": "exceptional-glucose"
      },
      "source": [
        "##### spearmanr\n",
        "\n",
        "* Function: `spearmanr`\n",
        "* Link: https://docs.scipy.org/doc/scipy/reference/generated/scipy.stats.spearmanr.html\n",
        "* Test: Spearman rank-order correlation\n",
        "* Description: Non-parametric measure of the the monotonicity of the relationship between two datasets. \n",
        "* Assumptions:\n",
        "  * No assumptions for distribution\n",
        "  * Both variables are a least ordinal\n",
        "* Example: Is there a relationship between level of education and salary? "
      ],
      "id": "exceptional-glucose"
    },
    {
      "cell_type": "markdown",
      "metadata": {
        "id": "decreased-pressure"
      },
      "source": [
        "##### pointbiseralr\n",
        "\n",
        "* Function: `pointbiseralr`\n",
        "* Link: https://docs.scipy.org/doc/scipy/reference/generated/scipy.stats.pointbiserialr.html\n",
        "* Test: Point biserial correlation\n",
        "* Description: Correlation test used to measure the relationship between a binary variable and a continuous variable.\n",
        "* Assumptions: \n",
        "  * One variable is continuous and one is bianry. \n",
        "* Example: Is there an association between gender and salaries. "
      ],
      "id": "decreased-pressure"
    },
    {
      "cell_type": "markdown",
      "metadata": {
        "id": "controlling-balloon"
      },
      "source": [
        "##### kendalltau\n",
        "\n",
        "* Function: `kendalltau`\n",
        "* Link: https://docs.scipy.org/doc/scipy/reference/generated/scipy.stats.kendalltau.html \n",
        "* Test: Kendall's tau\n",
        "* Description: Measures the correlation between two rankings. Close to 1 is strong agreement, close to -1 is strong disagreement, 0 is no relation. \n",
        "* Assumptions: \n",
        "    * No assumptions for distribution\n",
        "    * Both variables are a least ordinal\n",
        "* Example: 2 wine tasters ranked 20 chosen wines, are their rankings related? "
      ],
      "id": "controlling-balloon"
    },
    {
      "cell_type": "markdown",
      "metadata": {
        "id": "adequate-necklace"
      },
      "source": [
        "##### ttest_1samp\n",
        "\n",
        "* Function: `ttest_1samp(a, popmean, axis=0, nan_policy='propagate', alternative='two-sided')`\n",
        "* Link: https://docs.scipy.org/doc/scipy/reference/generated/scipy.stats.ttest_1samp.html \n",
        "* Test: One sample T-test\n",
        "* Description: Test for the null hypothesis that the expected mean of the sample a is equal to given population mean. \n",
        "* Assumptions:\n",
        "  * Data is independent\n",
        "  * Data is normally distributed\n",
        "  * Random samples\n",
        "* Example: Test if average age of people retiring in a population is 65, based on the average age of people retiring in a sample we took. "
      ],
      "id": "adequate-necklace"
    },
    {
      "cell_type": "markdown",
      "metadata": {
        "id": "behavioral-milwaukee"
      },
      "source": [
        "##### ttest_ind\n",
        "\n",
        "* Function: `ttest_ind(a, b, axis=0, equal_var=True, nan_policy='propagate', alternative='two-sided')`\n",
        "* Link: https://docs.scipy.org/doc/scipy/reference/generated/scipy.stats.ttest_ind.html\n",
        "* Test: Independent two sample T-test\n",
        "* Description: Test for the null hypothesis that 2 independent samples have identical averages. \n",
        "* Assumptions:\n",
        "  * Two samples have identical variances\n",
        "* Example: Test if the average exam scores of one sample of children from the U.S. and one sample of children from the U.K. differ. "
      ],
      "id": "behavioral-milwaukee"
    },
    {
      "cell_type": "markdown",
      "metadata": {
        "id": "municipal-stanford"
      },
      "source": [
        "##### ttest_rel\n",
        "\n",
        "* Function: `ttest_rel(a, b, axis=0, nan_policy='propagate', alternative='two-sided')`\n",
        "* Link: https://docs.scipy.org/doc/scipy/reference/generated/scipy.stats.ttest_rel.html\n",
        "* Test: Dependent t-test\n",
        "* Description: Test for the null hypothesis that 2 related or repeated samples have equal averages.\n",
        "* Assumptions:\n",
        "  * Dependant variable is of continuous scale\n",
        "  * Dependent variable is approximately normally distributed\n",
        "  * Samples are matched pairs - related in that the same subjects are present\n",
        "* Example: Test if there is a difference in test scores before and after taking a course."
      ],
      "id": "municipal-stanford"
    },
    {
      "cell_type": "markdown",
      "metadata": {
        "id": "operating-birth"
      },
      "source": [
        "##### chisquare\n",
        "\n",
        "* Function: `chisquare(f_obs, f_exp=None, ddof=0, axis=0)`\n",
        "* Link: https://docs.scipy.org/doc/scipy/reference/generated/scipy.stats.chisquare.html?highlight=chisquare#scipy.stats.chisquare\n",
        "* Test: Chi-squared\n",
        "* Description: Tests the null hypothesis of categorical data having given frequencies. Used for a goodness of fit, chi-square can determine if a sample matches population. Can be used to test independence if two samples are related. The smaller the chi square statistic, the more related.  \n",
        "* Assumptions:\n",
        "  * Expected frequency is at least 5\n",
        "  * Categorical data\n",
        "* Example: Test if educational level and marital status are related. "
      ],
      "id": "operating-birth"
    },
    {
      "cell_type": "markdown",
      "metadata": {
        "id": "presidential-block"
      },
      "source": [
        "##### mannwhitneyu\n",
        "\n",
        "* Function:`mannwhitneyu(x, y, use_continuity=True, alternative=None)`\n",
        "* Link: https://docs.scipy.org/doc/scipy/reference/generated/scipy.stats.mannwhitneyu.html\n",
        "* Test: Mann-Whitney U test\n",
        "* Description: Non-parametric version of the 2 sample t-test. Tests for the null-hypothesis that the distributions for two populations are equal. \n",
        "* Assumptions:\n",
        "  * n in each sample > 20\n",
        "  * 2 independent samples\n",
        "  * Dependent variable is at least ordinal\n",
        "  * Independent variable is categorical \n",
        "* Example: Testing whether attitudes towards discrimination (ordinal) differ between undergraduate and graduate students. **bold text**"
      ],
      "id": "presidential-block"
    },
    {
      "cell_type": "markdown",
      "metadata": {
        "id": "dress-finger"
      },
      "source": [
        "##### kstest\n",
        "\n",
        "* Function:`kstest(rvs, cdf, args=(), N=20, alternative='two-sided', mode='auto')`\n",
        "* Link: https://docs.scipy.org/doc/scipy/reference/generated/scipy.stats.kstest.html\n",
        "* Test: Kolmogorov-Smirnov test for goodness of fit\n",
        "* Description: A non parametric test. The one sample test tests the null hypothesis that the observed distribution is equal to the given distribution. The two sample test test if two independent samples are drawn from the same continuous distribution.\n",
        "* Assumptions:\n",
        "  * Continuous distribution\n",
        "* Example: Check if data is from a normal distribution or any other kind of distribution. "
      ],
      "id": "dress-finger"
    },
    {
      "cell_type": "markdown",
      "metadata": {
        "id": "instant-mongolia"
      },
      "source": [
        "##### wilcoxon\n",
        "\n",
        "* Function: `wilcoxon(x, y=None, zero_method='wilcox', correction=False, alternative='two-sided', mode='auto')`\n",
        "* Link: https://docs.scipy.org/doc/scipy/reference/generated/scipy.stats.wilcoxon.html?highlight=wilcoxon#scipy.stats.wilcoxon\n",
        "* Test: Wilcoxon signed-rank test\n",
        "* Description: Non-parametric of a paired t-test. Tests the null hypothesis that two related paired samples have equal medians.\n",
        "* Assumptions:\n",
        "  * Data are paired / dependent samples\n",
        "* Example: Test if there is a difference in median blood pressure between two treatment groups (whose distributions are not normal)."
      ],
      "id": "instant-mongolia"
    },
    {
      "cell_type": "markdown",
      "metadata": {
        "id": "quality-motor"
      },
      "source": [
        "##### kruskal\n",
        "\n",
        "* Function: `kruskal(*args, nan_policy='propagate')`\n",
        "* Link: https://docs.scipy.org/doc/scipy/reference/generated/scipy.stats.kruskal.html?highlight=kruskal#scipy.stats.kruskal\n",
        "* Test: Kruskal-Wallis H-test for independent samples\n",
        "* Description: Non-parametric version of the ANOVA test. Tests the null hypothesis that the population median for all groups are equal. \n",
        "* Assumptions: \n",
        "  * Two or more independent samples\n",
        "  * Each sample's n is at least 5\n",
        "* Example: If you want to find out if there is a difference in physical activity levels across ethinicities. \n"
      ],
      "id": "quality-motor"
    },
    {
      "cell_type": "markdown",
      "metadata": {
        "id": "offshore-church"
      },
      "source": [
        "#### Q5.4)"
      ],
      "id": "offshore-church"
    },
    {
      "cell_type": "markdown",
      "metadata": {
        "id": "exterior-dylan"
      },
      "source": [
        "For each scenario below, identify what test you might choose.\n",
        "\n",
        "1. If we wished to test whether there was any association between Gender and uptake of Flu vaccination which would be the best test to choose?"
      ],
      "id": "exterior-dylan"
    },
    {
      "cell_type": "markdown",
      "metadata": {
        "id": "separate-romania"
      },
      "source": [
        " Point biserial correlation test (pointbiseralr)"
      ],
      "id": "separate-romania"
    },
    {
      "cell_type": "markdown",
      "metadata": {
        "id": "finnish-guard"
      },
      "source": [
        "2. If we wished to test if there was a difference between the gestational age of babies at birth (how far along the pregnancy is, in weeks) and the use of a nutritional supplement by their mothers during pregnancy which would be the best test to choose?"
      ],
      "id": "finnish-guard"
    },
    {
      "cell_type": "markdown",
      "metadata": {
        "id": "initial-optimization"
      },
      "source": [
        "Independent two sample t-test (ttest_ind) "
      ],
      "id": "initial-optimization"
    },
    {
      "cell_type": "markdown",
      "metadata": {
        "id": "victorian-interpretation"
      },
      "source": [
        "3. The cotinine level was measured in women at the beginning and end of their pregnancy. The change in cotinine was presented on a Log scale. Which would be the best test to use to see if there had been a change in cotinine level during pregnancy?"
      ],
      "id": "victorian-interpretation"
    },
    {
      "cell_type": "markdown",
      "metadata": {
        "id": "neural-denial"
      },
      "source": [
        "Wilcoxon sign-ranked test (wilcoxon)"
      ],
      "id": "neural-denial"
    },
    {
      "cell_type": "markdown",
      "metadata": {
        "id": "minimal-postcard"
      },
      "source": [
        "4. If we wished to estimate the strength of the linear relationship between the weight of a mother and the weight of her baby at birth which would be the best test to choose?"
      ],
      "id": "minimal-postcard"
    },
    {
      "cell_type": "markdown",
      "metadata": {
        "id": "generic-celebrity"
      },
      "source": [
        "Pearson correlation test (pearsonr)"
      ],
      "id": "generic-celebrity"
    },
    {
      "cell_type": "markdown",
      "metadata": {
        "id": "scheduled-appeal"
      },
      "source": [
        "5. The pre-operative and post-operative anxiety levels of adolescent patients undergoing orthopaedic surgery were measured using the State-Trait Anxiety Inventory STAI scale. The authors reported the pre-operative anxiety levels as mean = 33.8 (SD = 5.1) and post-operative anxiety levels as mean = 38.8 (SD = 7.2). They also performed a Shapiro-Wilks Test demonstrating that the data is normal. Which would have been the most appropriate test to assess the relationship between pre and post operative anxiety?"
      ],
      "id": "scheduled-appeal"
    },
    {
      "cell_type": "markdown",
      "metadata": {
        "id": "champion-sensitivity"
      },
      "source": [
        "One sample T-test (ttest_1samp)"
      ],
      "id": "champion-sensitivity"
    },
    {
      "cell_type": "markdown",
      "metadata": {
        "id": "treated-bottle"
      },
      "source": [
        "6. Salaries in the United States are heavily skewed. If you were investigating salaries between Software Engineers and non-Software Engineers, which test would be most appropriate?"
      ],
      "id": "treated-bottle"
    },
    {
      "cell_type": "markdown",
      "metadata": {
        "id": "specialized-disability"
      },
      "source": [
        "Mann-Whitney U test (mannwhitneyu)"
      ],
      "id": "specialized-disability"
    },
    {
      "cell_type": "markdown",
      "metadata": {
        "id": "thirty-effort"
      },
      "source": [
        "7. As previously mentioned, salaries in the United States are heavily skewed. You conduct a survey of 100 folks (selected completely at random from the US), asking their salary and their \"satisfaction their salary\" with the possible responses \"Very Happy\", \"Happy\", \"Neutral\", \"Unhappy\", and \"Very Unhappy\". What test could you use to determine the relationship between these two values?"
      ],
      "id": "thirty-effort"
    },
    {
      "cell_type": "markdown",
      "metadata": {
        "id": "joint-underground"
      },
      "source": [
        "Spearman correlation test (spearmanr)"
      ],
      "id": "joint-underground"
    },
    {
      "cell_type": "markdown",
      "metadata": {
        "id": "parliamentary-smith"
      },
      "source": [
        "8. It is 2022, and the revolution has begun. It is chaos in the streets, and societal upheaval is everywhere. Strangely, you are more interested in doing data science, and are now investigating whether salaries are still skewed. You go back to the 100 folks you talked to previously, and ask them for their new salary data. What test can help you determine if there is a change?"
      ],
      "id": "parliamentary-smith"
    },
    {
      "cell_type": "markdown",
      "metadata": {
        "id": "dynamic-mason"
      },
      "source": [
        "Wilcoxon signed-rank test (wilcoxon)"
      ],
      "id": "dynamic-mason"
    },
    {
      "cell_type": "markdown",
      "metadata": {
        "id": "becoming-sixth"
      },
      "source": [
        "#### Q5.5)\n",
        "\n",
        "Recall the skyscrapers data we looked at before."
      ],
      "id": "becoming-sixth"
    },
    {
      "cell_type": "code",
      "metadata": {
        "id": "pleasant-bahamas",
        "colab": {
          "base_uri": "https://localhost:8080/",
          "height": 195
        },
        "outputId": "5f7f3467-a3ef-43f3-ed24-09c073a080ed"
      },
      "source": [
        "skyscrapers.head()"
      ],
      "id": "pleasant-bahamas",
      "execution_count": 18,
      "outputs": [
        {
          "output_type": "execute_result",
          "data": {
            "text/html": [
              "<div>\n",
              "<style scoped>\n",
              "    .dataframe tbody tr th:only-of-type {\n",
              "        vertical-align: middle;\n",
              "    }\n",
              "\n",
              "    .dataframe tbody tr th {\n",
              "        vertical-align: top;\n",
              "    }\n",
              "\n",
              "    .dataframe thead th {\n",
              "        text-align: right;\n",
              "    }\n",
              "</style>\n",
              "<table border=\"1\" class=\"dataframe\">\n",
              "  <thead>\n",
              "    <tr style=\"text-align: right;\">\n",
              "      <th></th>\n",
              "      <th>id</th>\n",
              "      <th>material</th>\n",
              "      <th>name</th>\n",
              "      <th>development.phase</th>\n",
              "      <th>location.city</th>\n",
              "      <th>location.latitude</th>\n",
              "      <th>location.longitude</th>\n",
              "      <th>statistics.height</th>\n",
              "      <th>tall?</th>\n",
              "    </tr>\n",
              "  </thead>\n",
              "  <tbody>\n",
              "    <tr>\n",
              "      <th>0</th>\n",
              "      <td>12</td>\n",
              "      <td>steel</td>\n",
              "      <td>The Illinois</td>\n",
              "      <td>1</td>\n",
              "      <td>Chicago</td>\n",
              "      <td>0.000000</td>\n",
              "      <td>0.000000</td>\n",
              "      <td>1609.359985</td>\n",
              "      <td>True</td>\n",
              "    </tr>\n",
              "    <tr>\n",
              "      <th>1</th>\n",
              "      <td>62</td>\n",
              "      <td>composite</td>\n",
              "      <td>Chicago Spire</td>\n",
              "      <td>2</td>\n",
              "      <td>Chicago</td>\n",
              "      <td>41.889889</td>\n",
              "      <td>-87.614861</td>\n",
              "      <td>609.599976</td>\n",
              "      <td>True</td>\n",
              "    </tr>\n",
              "    <tr>\n",
              "      <th>2</th>\n",
              "      <td>68</td>\n",
              "      <td>composite</td>\n",
              "      <td>Miglin-Beitler Skyneedle</td>\n",
              "      <td>1</td>\n",
              "      <td>Chicago</td>\n",
              "      <td>41.881618</td>\n",
              "      <td>-87.634354</td>\n",
              "      <td>609.489990</td>\n",
              "      <td>True</td>\n",
              "    </tr>\n",
              "    <tr>\n",
              "      <th>3</th>\n",
              "      <td>98</td>\n",
              "      <td>composite</td>\n",
              "      <td>One World Trade Center</td>\n",
              "      <td>3</td>\n",
              "      <td>New York City</td>\n",
              "      <td>40.713112</td>\n",
              "      <td>-74.013351</td>\n",
              "      <td>541.299988</td>\n",
              "      <td>True</td>\n",
              "    </tr>\n",
              "    <tr>\n",
              "      <th>4</th>\n",
              "      <td>14269</td>\n",
              "      <td>concrete</td>\n",
              "      <td>Central Park Tower</td>\n",
              "      <td>2</td>\n",
              "      <td>New York City</td>\n",
              "      <td>40.766361</td>\n",
              "      <td>-73.980949</td>\n",
              "      <td>541.020020</td>\n",
              "      <td>True</td>\n",
              "    </tr>\n",
              "  </tbody>\n",
              "</table>\n",
              "</div>"
            ],
            "text/plain": [
              "      id   material  ... statistics.height  tall?\n",
              "0     12      steel  ...       1609.359985   True\n",
              "1     62  composite  ...        609.599976   True\n",
              "2     68  composite  ...        609.489990   True\n",
              "3     98  composite  ...        541.299988   True\n",
              "4  14269   concrete  ...        541.020020   True\n",
              "\n",
              "[5 rows x 9 columns]"
            ]
          },
          "metadata": {
            "tags": []
          },
          "execution_count": 18
        }
      ]
    },
    {
      "cell_type": "markdown",
      "metadata": {
        "id": "satisfactory-priest"
      },
      "source": [
        "Is there a relationship between a Skyscrapers latitude and height?"
      ],
      "id": "satisfactory-priest"
    },
    {
      "cell_type": "code",
      "metadata": {
        "id": "weighted-instruction",
        "colab": {
          "base_uri": "https://localhost:8080/"
        },
        "outputId": "114261de-1124-4909-ab6a-40a7d8979ffe"
      },
      "source": [
        "stats.spearmanr(skyscrapers['location.latitude'],skyscrapers['statistics.height'])\n",
        "print(\"There is no strong relationship between a skyscraper's latitude and height since the Spearman correlation coefficient is only -0.03 and the p-value is 0.05 which is more than the typical significance level of 0.05, making the correlation not significant.\")"
      ],
      "id": "weighted-instruction",
      "execution_count": 19,
      "outputs": [
        {
          "output_type": "stream",
          "text": [
            "There is no strong relationship between a skyscraper's latitude and height since the Spearman correlation coefficient is only -0.03 and the p-value is 0.05 which is more than the typical significance level of 0.05, making the correlation not significant.\n"
          ],
          "name": "stdout"
        }
      ]
    },
    {
      "cell_type": "markdown",
      "metadata": {
        "id": "answering-cricket"
      },
      "source": [
        "Are `New York City` skyscrapers bigger than `Chicago` skyscrapers? "
      ],
      "id": "answering-cricket"
    },
    {
      "cell_type": "code",
      "metadata": {
        "id": "massive-holder",
        "colab": {
          "base_uri": "https://localhost:8080/"
        },
        "outputId": "6b926042-b17c-4d8a-cd3f-c857e14dd5f8"
      },
      "source": [
        "newyork = skyscrapers[skyscrapers['location.city']=='New York City']\n",
        "chicago = skyscrapers[skyscrapers['location.city']=='Chicago']\n",
        "np.var(newyork['statistics.height']) == np.var(chicago['statistics.height'])\n",
        "pvalue = stats.ttest_ind(newyork['statistics.height'],chicago['statistics.height'],equal_var=False)\n",
        "print(\"When running the independent t-test on both samples, the p-value is greater than the common significance level of 0.05. This means that there is no significant difference between the size of New York City and Chicago skyscrapers.\")"
      ],
      "id": "massive-holder",
      "execution_count": 20,
      "outputs": [
        {
          "output_type": "stream",
          "text": [
            "When running the independent t-test on both samples, the p-value is greater than the common significance level of 0.05. This means that there is no significant difference between the size of New York City and Chicago skyscrapers.\n"
          ],
          "name": "stdout"
        }
      ]
    },
    {
      "cell_type": "markdown",
      "metadata": {
        "id": "engaged-showcase"
      },
      "source": [
        "In the dataset, completed skyscrapers are phase 3, in-progress skyscrapers are phase 2, and not-started skyscrapers are phase 1.\n",
        "Considering only skyscrapers made with concrete and steel, is there a difference in the distribution of the different development phases between the two materials? "
      ],
      "id": "engaged-showcase"
    },
    {
      "cell_type": "code",
      "metadata": {
        "id": "simplified-infrastructure",
        "colab": {
          "base_uri": "https://localhost:8080/"
        },
        "outputId": "cc9db9c5-6dab-4513-f0e5-0bbf1268f4ef"
      },
      "source": [
        "concrete = skyscrapers[skyscrapers['material']=='concrete']\n",
        "steel = skyscrapers[skyscrapers['material']=='steel']\n",
        "stats.mannwhitneyu(concrete['development.phase'],steel['development.phase'])\n",
        "print(\"There is no significant difference between the two distributions since the p-value is less than 0.05.\")"
      ],
      "id": "simplified-infrastructure",
      "execution_count": 21,
      "outputs": [
        {
          "output_type": "stream",
          "text": [
            "There is no significant difference between the two distributions since the p-value is less than 0.05.\n"
          ],
          "name": "stdout"
        }
      ]
    },
    {
      "cell_type": "markdown",
      "metadata": {
        "id": "authorized-disposition"
      },
      "source": [
        "# Part 6) Effect Sizes\n",
        "\n",
        "Watch the videos, and answer the questions.\n",
        "\n",
        "https://youtu.be/PyNzbDbjs1Y"
      ],
      "id": "authorized-disposition"
    },
    {
      "cell_type": "markdown",
      "metadata": {
        "id": "specified-isolation"
      },
      "source": [
        "#### Q6.1)\n",
        "\n",
        "Why is it important to present p-values AND effect sizes?"
      ],
      "id": "specified-isolation"
    },
    {
      "cell_type": "markdown",
      "metadata": {
        "id": "exact-insured"
      },
      "source": [
        "Even if there is a significant p-value, that does not mean that the effect of the result is meaningful. Effect sizes show whether that significance is important and large. In the example in the video, one of the hair growth formulas found that there was a significant difference between the length of the hair before the experiment vs. after, however this growth was so little that in practical application, it would have taken centuries to see that growth in any meaningful way. P-value may describe the significance of the value but not how important that value is with real-world application. That is why p-values and effect sizes must both be presented."
      ],
      "id": "exact-insured"
    },
    {
      "cell_type": "markdown",
      "metadata": {
        "id": "disturbed-alignment"
      },
      "source": [
        "#### Q6.2)\n",
        "\n",
        "The video briefly suggests some ways to calculate effect size. For each of the following, give a brief explanation:\n"
      ],
      "id": "disturbed-alignment"
    },
    {
      "cell_type": "markdown",
      "metadata": {
        "id": "twenty-methodology"
      },
      "source": [
        "* Pearson Correlation: The Pearson correlation coefficient measures how correlated two data sets are with -1 being a strong negative correlation and +1 being a strong positive correlation.  \n",
        "* R Squared: Tells what proportion of variation in the dependent variable is explained by the variation in the independent variable.\n",
        "* Cohen's d Effect Size: Calculates difference number of standard deviations two groups differ by as a way to measure the effect size.\n",
        "* Eta Squared: The proportion of variance associated with one or main effects, interactions or errors. Calculated using SSE and SStotal.\n",
        "* Odds Ratio: Measures the probability that an event will occur if given a certain exposure compared to the probability that the event will happen if the exposure was not there."
      ],
      "id": "twenty-methodology"
    },
    {
      "cell_type": "markdown",
      "metadata": {
        "id": "assured-lightweight"
      },
      "source": [
        "#### Q6.3)\n",
        "\n",
        "Watch the following video, then answer the question below.\n",
        "\n",
        "https://youtu.be/6uYNVCy-8NA"
      ],
      "id": "assured-lightweight"
    },
    {
      "cell_type": "markdown",
      "metadata": {
        "id": "smart-quality"
      },
      "source": [
        "In the video, the speaker suggests concrete ways to interpret effect sizes. However, Cohen warned about turning effect size numbers into ideas of \"small\", \"medium\", and \"large\". What is dangerous about interpreting effect size values?"
      ],
      "id": "smart-quality"
    },
    {
      "cell_type": "markdown",
      "metadata": {
        "id": "activated-armstrong"
      },
      "source": [
        "Since there is no context for these measurements, a \"large\" effect size may not be large in a particular circumstance and the categorization would make it misleading. It also begs the question of \"Large in comparision to what?\" which will also differ based on the context of the data. By generalizing with these terms, data can be misinterpreted/miscatergorized which could lead to dangerous conclusions."
      ],
      "id": "activated-armstrong"
    },
    {
      "cell_type": "markdown",
      "metadata": {
        "id": "above-bennett"
      },
      "source": [
        "#### Q6.4)\n",
        "\n",
        "Your arch-nemesis stands up and reports, \"In our study, we found a significant difference between the control group and the treatment group. Clearly, my research team deserves more funding.\" You raise your hand to ask a question - what do you ask?"
      ],
      "id": "above-bennett"
    },
    {
      "cell_type": "markdown",
      "metadata": {
        "id": "static-skating"
      },
      "source": [
        "What is the effect size?"
      ],
      "id": "static-skating"
    },
    {
      "cell_type": "markdown",
      "metadata": {
        "id": "durable-reynolds"
      },
      "source": [
        "#### Q6.5)\n",
        "\n",
        "Previously, you were asked to calculate whether there was a significant difference between `New York City` and `Chicago` skyscrapers. Now provide a measure of effect size to fully characterize their difference."
      ],
      "id": "durable-reynolds"
    },
    {
      "cell_type": "code",
      "metadata": {
        "id": "modular-pennsylvania",
        "colab": {
          "base_uri": "https://localhost:8080/"
        },
        "outputId": "bb9d1f69-244f-44b0-a085-6b6bef297539"
      },
      "source": [
        "#Cohen's d Effect Size\n",
        "nyheight = newyork['statistics.height']\n",
        "cheight = chicago['statistics.height']\n",
        "nx = len(nyheight)\n",
        "ny = len(cheight)\n",
        "dof = nx + ny - 2\n",
        "cohensd = (np.mean(nyheight) - np.mean(cheight)) / np.sqrt(((nx-1)*np.std(nyheight, ddof=1) ** 2 + (ny-1)*np.std(cheight, ddof=1) ** 2) / dof)\n",
        "print(\"Cohen'd d effect size is \"+str(cohensd))\n",
        "print(\"This is a small effect size according to the general interpretation, which means the difference between the two groups' means is \"+str(cohensd)+\" standard deviations.\")"
      ],
      "id": "modular-pennsylvania",
      "execution_count": 22,
      "outputs": [
        {
          "output_type": "stream",
          "text": [
            "Cohen'd d effect size is 0.11357034734796648\n",
            "This is a small effect size according to the general interpretation, which means the difference between the two groups' means is 0.11357034734796648 standard deviations.\n"
          ],
          "name": "stdout"
        }
      ]
    }
  ]
}