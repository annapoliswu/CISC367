{
 "cells": [
  {
   "cell_type": "code",
   "execution_count": 148,
   "id": "weird-refund",
   "metadata": {},
   "outputs": [],
   "source": [
    "import fitz\n",
    "import pandas as pd\n",
    "from collections import Counter\n",
    "\n",
    "import camelot\n",
    "import requests\n",
    "\n",
    "import json\n",
    "from PIL import Image\n",
    "import io\n",
    "import pytesseract\n",
    "from textblob import TextBlob\n",
    "\n",
    "import matplotlib.pyplot as plt\n",
    "import seaborn as sns\n",
    "import numpy as np\n",
    "\n",
    "import cv2"
   ]
  },
  {
   "cell_type": "markdown",
   "id": "forbidden-literature",
   "metadata": {},
   "source": [
    "## PDF Extractor\n",
    "### Example"
   ]
  },
  {
   "cell_type": "code",
   "execution_count": 12,
   "id": "honest-ranking",
   "metadata": {},
   "outputs": [
    {
     "data": {
      "text/plain": [
       "the     2640\n",
       ".       2323\n",
       "of      1580\n",
       "to      1384\n",
       "and     1174\n",
       "a        977\n",
       "in       694\n",
       "is       612\n",
       "for      524\n",
       "that     507\n",
       "be       431\n",
       "data     407\n",
       "The      361\n",
       "are      349\n",
       "with     337\n",
       "dtype: int64"
      ]
     },
     "execution_count": 12,
     "metadata": {},
     "output_type": "execute_result"
    }
   ],
   "source": [
    "doc = fitz.open('data/dissertation.pdf')\n",
    "text = \"\".join(page.get_text(\"text\") for page in doc)\n",
    "words = pd.Series(text.split())\n",
    "words.value_counts().head(15)"
   ]
  },
  {
   "cell_type": "code",
   "execution_count": 7,
   "id": "animal-alert",
   "metadata": {},
   "outputs": [
    {
     "data": {
      "text/html": [
       "<div>\n",
       "<style scoped>\n",
       "    .dataframe tbody tr th:only-of-type {\n",
       "        vertical-align: middle;\n",
       "    }\n",
       "\n",
       "    .dataframe tbody tr th {\n",
       "        vertical-align: top;\n",
       "    }\n",
       "\n",
       "    .dataframe thead th {\n",
       "        text-align: right;\n",
       "    }\n",
       "</style>\n",
       "<table border=\"1\" class=\"dataframe\">\n",
       "  <thead>\n",
       "    <tr style=\"text-align: right;\">\n",
       "      <th></th>\n",
       "      <th>0</th>\n",
       "      <th>1</th>\n",
       "      <th>2</th>\n",
       "      <th>3</th>\n",
       "      <th>4</th>\n",
       "    </tr>\n",
       "  </thead>\n",
       "  <tbody>\n",
       "    <tr>\n",
       "      <th>0</th>\n",
       "      <td>Fall</td>\n",
       "      <td>2020 Fall Term</td>\n",
       "      <td></td>\n",
       "      <td>2021 Fall Term</td>\n",
       "      <td></td>\n",
       "    </tr>\n",
       "    <tr>\n",
       "      <th>1</th>\n",
       "      <td>First Day of Classes</td>\n",
       "      <td>Tue</td>\n",
       "      <td>September 1</td>\n",
       "      <td>Tue</td>\n",
       "      <td>August 31</td>\n",
       "    </tr>\n",
       "    <tr>\n",
       "      <th>2</th>\n",
       "      <td>Labor Day - Classes Will Meet</td>\n",
       "      <td>Mon</td>\n",
       "      <td>September 7</td>\n",
       "      <td></td>\n",
       "      <td></td>\n",
       "    </tr>\n",
       "    <tr>\n",
       "      <th>3</th>\n",
       "      <td>Labor Day - Classes Suspended</td>\n",
       "      <td></td>\n",
       "      <td></td>\n",
       "      <td>Mon</td>\n",
       "      <td>September 6</td>\n",
       "    </tr>\n",
       "    <tr>\n",
       "      <th>4</th>\n",
       "      <td>Last day to add or drop courses</td>\n",
       "      <td>Tue</td>\n",
       "      <td>September 15</td>\n",
       "      <td>Tue</td>\n",
       "      <td>September 14</td>\n",
       "    </tr>\n",
       "    <tr>\n",
       "      <th>...</th>\n",
       "      <td>...</td>\n",
       "      <td>...</td>\n",
       "      <td>...</td>\n",
       "      <td>...</td>\n",
       "      <td>...</td>\n",
       "    </tr>\n",
       "    <tr>\n",
       "      <th>70</th>\n",
       "      <td>Summer Session - 10 week - classes begin</td>\n",
       "      <td>Mon</td>\n",
       "      <td>June 7</td>\n",
       "      <td>Mon</td>\n",
       "      <td>June 6</td>\n",
       "    </tr>\n",
       "    <tr>\n",
       "      <th>71</th>\n",
       "      <td>Last day to add or drop courses</td>\n",
       "      <td>Wed</td>\n",
       "      <td>June 16</td>\n",
       "      <td>Wed</td>\n",
       "      <td>June 15</td>\n",
       "    </tr>\n",
       "    <tr>\n",
       "      <th>72</th>\n",
       "      <td>Last day to change registration or withdraw fr...</td>\n",
       "      <td>Thur</td>\n",
       "      <td>July 15</td>\n",
       "      <td>Thur</td>\n",
       "      <td>July 14</td>\n",
       "    </tr>\n",
       "    <tr>\n",
       "      <th>73</th>\n",
       "      <td>Final Exams</td>\n",
       "      <td>Fri</td>\n",
       "      <td>August 13</td>\n",
       "      <td>Fri</td>\n",
       "      <td>August 12</td>\n",
       "    </tr>\n",
       "    <tr>\n",
       "      <th>74</th>\n",
       "      <td>Deadline for 10-week grades to be posted to UDSIS</td>\n",
       "      <td>Tue</td>\n",
       "      <td>August 17</td>\n",
       "      <td>Tue</td>\n",
       "      <td>August 16</td>\n",
       "    </tr>\n",
       "  </tbody>\n",
       "</table>\n",
       "<p>75 rows × 5 columns</p>\n",
       "</div>"
      ],
      "text/plain": [
       "                                                    0               1  \\\n",
       "0                                                Fall  2020 Fall Term   \n",
       "1                                First Day of Classes             Tue   \n",
       "2                       Labor Day - Classes Will Meet             Mon   \n",
       "3                       Labor Day - Classes Suspended                   \n",
       "4                     Last day to add or drop courses             Tue   \n",
       "..                                                ...             ...   \n",
       "70           Summer Session - 10 week - classes begin             Mon   \n",
       "71                    Last day to add or drop courses             Wed   \n",
       "72  Last day to change registration or withdraw fr...            Thur   \n",
       "73                                        Final Exams             Fri   \n",
       "74  Deadline for 10-week grades to be posted to UDSIS             Tue   \n",
       "\n",
       "               2               3             4  \n",
       "0                 2021 Fall Term                \n",
       "1    September 1             Tue     August 31  \n",
       "2    September 7                                \n",
       "3                            Mon   September 6  \n",
       "4   September 15             Tue  September 14  \n",
       "..           ...             ...           ...  \n",
       "70        June 7             Mon        June 6  \n",
       "71       June 16             Wed       June 15  \n",
       "72       July 15            Thur       July 14  \n",
       "73     August 13             Fri     August 12  \n",
       "74     August 17             Tue     August 16  \n",
       "\n",
       "[75 rows x 5 columns]"
      ]
     },
     "execution_count": 7,
     "metadata": {},
     "output_type": "execute_result"
    }
   ],
   "source": [
    "tables = camelot.read_pdf('data/calendar.pdf')\n",
    "df = tables[0].df\n",
    "df"
   ]
  },
  {
   "cell_type": "markdown",
   "id": "occupational-coaching",
   "metadata": {},
   "source": [
    "### With Other Data"
   ]
  },
  {
   "cell_type": "code",
   "execution_count": 11,
   "id": "brief-portsmouth",
   "metadata": {},
   "outputs": [
    {
     "data": {
      "text/plain": [
       "the       129\n",
       "of        103\n",
       "and        83\n",
       "to         76\n",
       "a          75\n",
       "color      70\n",
       "in         57\n",
       "is         35\n",
       "colors     30\n",
       "on         28\n",
       "be         26\n",
       "with       24\n",
       "for        22\n",
       "that       22\n",
       "can        21\n",
       "dtype: int64"
      ]
     },
     "execution_count": 11,
     "metadata": {},
     "output_type": "execute_result"
    }
   ],
   "source": [
    "doc = fitz.open('data/Essay.pdf')\n",
    "text = \"\".join(page.get_text(\"text\") for page in doc)\n",
    "words = pd.Series(text.split())\n",
    "words.value_counts().head(15)"
   ]
  },
  {
   "cell_type": "markdown",
   "id": "micro-affair",
   "metadata": {},
   "source": [
    "## Reddit Image Transcriber\n",
    "### Example"
   ]
  },
  {
   "cell_type": "code",
   "execution_count": 94,
   "id": "phantom-ownership",
   "metadata": {
    "tags": []
   },
   "outputs": [
    {
     "name": "stdout",
     "output_type": "stream",
     "text": [
      "Complete\n"
     ]
    }
   ],
   "source": [
    "# Getting titles and urls\n",
    "data = requests.get(\"https://www.reddit.com/r/comics/.json\", headers = {'User-agent': 'your bot 0.1'}).json()\n",
    "children = data[\"data\"][\"children\"]\n",
    "\n",
    "comics = []\n",
    "all_text = \"\"\n",
    "\n",
    "for child in children:\n",
    "    title = child[\"data\"][\"title\"]\n",
    "    url = child[\"data\"][\"url\"]\n",
    "    if(url.endswith(\".png\") | url.endswith(\".jpg\") ):\n",
    "        comics.append({\"title\": title, \"url\":url})\n",
    "\n",
    "# Passing to pytesseract \n",
    "for item in comics:\n",
    "    url = item[\"url\"]\n",
    "    response = requests.get(url)\n",
    "    img = Image.open(io.BytesIO(response.content))\n",
    "    text = pytesseract.image_to_string(img)\n",
    "    all_text += text\n",
    "\n",
    "print(\"Complete\")"
   ]
  },
  {
   "cell_type": "code",
   "execution_count": 87,
   "id": "ancient-provision",
   "metadata": {},
   "outputs": [
    {
     "name": "stdout",
     "output_type": "stream",
     "text": [
      "THE        11\n",
      "TO         10\n",
      "|           8\n",
      "A           8\n",
      "HE          6\n",
      "           ..\n",
      "going       1\n",
      "ie          1\n",
      "the         1\n",
      "WELCOME     1\n",
      "ANGRY.      1\n",
      "Length: 418, dtype: int64\n"
     ]
    }
   ],
   "source": [
    "words = pd.Series(all_text.split())\n",
    "print(words.value_counts())"
   ]
  },
  {
   "cell_type": "code",
   "execution_count": 88,
   "id": "weighted-mumbai",
   "metadata": {},
   "outputs": [
    {
     "name": "stdout",
     "output_type": "stream",
     "text": [
      "['dude', 'love rock', 'hell yeah', 'like rock', 'rock', 'the best', 'mrlovenstein.com', \"\\\\ 'm\", 'dying', 'call', 'you have to call', 'it', '’ s', 'okay', 'understand', 'remi_lascault', '[ ngewe', 'cc', 'drowning in the burdens of my lifes man', \"you're\", 'fish', 'vve got fish burdens', 'poorly drawn lines', 'the', 'slime', 'beginners blade', 'welcome to your first dungeon', 'don t think were ready for that just yet', \"let's come back later with some ice magi— h—-hey\", 'don t just leave', 'thanks', 'meatball sub', 'sure', 't feel ugly', '“ m', 'going to dress vp', 'felissabumblehead', \"'s ... um\", 'may', 'pretty neat', 'instagram.com/sewergrandpascomics twitter.com/sewergrandpa work', 'wow to eat swake comics oh my gop t off ladder and my chainsaw lie still', 't know', 'jimbenton.com', '+ instagram.com/jimbentonshots lamthem te com neh orn', 'iwish', \"n't geta\", 'iwill', 'ithas', 'a468 picture it', 'fruit fly', 'but with the mind of albert einstein', 'it', '’ s', 'and he has', 'hours to discover the general theory of relativity before the real einstein beats him to it', 'will he succeed', 'fistful of zebras no', 'instead', 'he fucks', 'good lord he fucks', 'its', 'genius fruit fly fuckfest without', 'care in the world for science', 'then he dies and it doesn', 't matter anyway because he never would have had the balls to publish', 'time ’ s', 'ahahahahahahahahaha', 'hahahahahahahahahah hahahahahahahahahah', 'rat da', 'well', 'life ...', 'mot', 'mi <', 't @ mildnihilist', 'how to keep warm by zachsym vo drink something hot', 'vo wrap yourself like', 'cup of hot', 'will warm burito', 'it will warm you you from the inside', 'from the outside', \"do n't set yourself on fire and taunt mother nature\", 'to take warm bath', 'it', 'will wash the', 'coldness away', 'this all you', 'got', 'tapastic.com/series/zachomics', \"za'chomics\", 'getting angry because ano', \"ca n't fall asleep\", \"ca n't fall asleep\", 'because', 'getting angry', 'neevtewic ldida hmm lot this', 'morning', 'qo', '® d', 'adam', 'foreman @ sliceofmallow', 'how do', 'appeal to women', 'lo @', 'eirinnske_comics', '“ lie-brary ” haho amirite bruv', 'step', 'train', 'obviousty', \"| wouldn'+\", 'friends +o practice', 'ripote } @ sheepish games', 'can', 'have', 'bite', 'sure', 'fi #', 'instagram.com/kubbs_hd', 'pet-proof', '= = fo b ] o', '= }', 'ie i ]', 'pd']\n"
     ]
    },
    {
     "data": {
      "text/plain": [
       "he      7\n",
       "t       7\n",
       "s       7\n",
       "m       8\n",
       "you    10\n",
       "it     11\n",
       "the    12\n",
       "i      13\n",
       "a      14\n",
       "to     15\n",
       "dtype: int64"
      ]
     },
     "execution_count": 88,
     "metadata": {},
     "output_type": "execute_result"
    }
   ],
   "source": [
    "blob = TextBlob(all_text)\n",
    "print(blob.noun_phrases)\n",
    "pd.Series(blob.word_counts).sort_values().tail(10)"
   ]
  },
  {
   "cell_type": "markdown",
   "id": "rotary-humanity",
   "metadata": {},
   "source": [
    "### With Another Subreddit"
   ]
  },
  {
   "cell_type": "code",
   "execution_count": 93,
   "id": "abstract-establishment",
   "metadata": {},
   "outputs": [
    {
     "name": "stdout",
     "output_type": "stream",
     "text": [
      "Complete\n"
     ]
    }
   ],
   "source": [
    "# Getting titles and urls\n",
    "data = requests.get(\"https://www.reddit.com/r/texts/.json\", headers = {'User-agent': 'your bot 0.1'}).json()\n",
    "children = data[\"data\"][\"children\"]\n",
    "\n",
    "textItems = []\n",
    "all_text2 = \"\"\n",
    "\n",
    "for child in children:\n",
    "    title = child[\"data\"][\"title\"]\n",
    "    url = child[\"data\"][\"url\"]\n",
    "    if(url.endswith(\".png\") | url.endswith(\".jpg\") ):\n",
    "        textItems.append({\"title\": title, \"url\":url})\n",
    "\n",
    "# Passing to pytesseract \n",
    "for item in textItems:\n",
    "    url = item[\"url\"]\n",
    "    response = requests.get(url)\n",
    "    img = Image.open(io.BytesIO(response.content))\n",
    "    text = pytesseract.image_to_string(img)\n",
    "    all_text2 += text\n",
    "\n",
    "print(\"Complete\")"
   ]
  },
  {
   "cell_type": "code",
   "execution_count": 143,
   "id": "alike-restaurant",
   "metadata": {},
   "outputs": [
    {
     "name": "stdout",
     "output_type": "stream",
     "text": [
      "this      8\n",
      "an        9\n",
      "am        9\n",
      "is       10\n",
      "it       12\n",
      "in       12\n",
      "and      13\n",
      "my       14\n",
      "what     14\n",
      "to       14\n",
      "today    15\n",
      "i        17\n",
      "pm       17\n",
      "at       17\n",
      "the      17\n",
      "you      18\n",
      "a        20\n",
      "dtype: int64\n"
     ]
    },
    {
     "data": {
      "image/png": "[encoded data removed]",
      "text/plain": [
       "<Figure size 720x504 with 1 Axes>"
      ]
     },
     "metadata": {
      "needs_background": "light"
     },
     "output_type": "display_data"
    }
   ],
   "source": [
    "blob = TextBlob(all_text2)\n",
    "words = pd.Series(blob.word_counts).sort_values().tail(20)\n",
    "words = words.drop(labels=[\"©\", \"s\", \"o\"]) # dropping non-words\n",
    "print(words)\n",
    "\n",
    "words.plot(kind='barh', figsize=(10, 7))\n",
    "plt.xlabel(\"Frequency\", labelpad=14)\n",
    "plt.ylabel(\"Word\", labelpad=14)\n",
    "plt.title(\"Frequency of Words in Images on Frontpage of r/texts\", y=1.05)\n",
    "plt.xticks(np.arange(0, 22, 1.0))\n",
    "plt.show()"
   ]
  },
  {
   "cell_type": "markdown",
   "id": "lyric-consequence",
   "metadata": {},
   "source": [
    "## Open CV Face Finding"
   ]
  },
  {
   "cell_type": "code",
   "execution_count": 155,
   "id": "opposite-mission",
   "metadata": {},
   "outputs": [
    {
     "data": {
      "text/plain": [
       "True"
      ]
     },
     "execution_count": 155,
     "metadata": {},
     "output_type": "execute_result"
    }
   ],
   "source": [
    "face_cascade = cv2.CascadeClassifier('classifiers/haarcascade_frontalface_default.xml')\n",
    "eye_cascade = cv2.CascadeClassifier('classifiers/haarcascade_eye.xml')\n",
    "\n",
    "img = cv2.imread('images/1.jpg')\n",
    "gray = cv2.cvtColor(img, cv2.COLOR_BGR2GRAY)\n",
    "\n",
    "faces = face_cascade.detectMultiScale(gray, 1.3, 5)\n",
    "for (x,y,w,h) in faces:\n",
    "    img = cv2.rectangle(img,(x,y),(x+w,y+h),(255,0,0),2)\n",
    "    roi_gray = gray[y:y+h, x:x+w]\n",
    "    roi_color = img[y:y+h, x:x+w]\n",
    "    eyes = eye_cascade.detectMultiScale(roi_gray)\n",
    "    for (ex,ey,ew,eh) in eyes:\n",
    "        cv2.rectangle(roi_color,(ex,ey),(ex+ew,ey+eh),(0,255,0),2)\n",
    "\n",
    "cv2.imwrite('images/1-processed.jpg', img)"
   ]
  }
 ],
 "metadata": {
  "kernelspec": {
   "display_name": "Python 3",
   "language": "python",
   "name": "python3"
  },
  "language_info": {
   "codemirror_mode": {
    "name": "ipython",
    "version": 3
   },
   "file_extension": ".py",
   "mimetype": "text/x-python",
   "name": "python",
   "nbconvert_exporter": "python",
   "pygments_lexer": "ipython3",
   "version": "3.9.1"
  }
 },
 "nbformat": 4,
 "nbformat_minor": 5
}
