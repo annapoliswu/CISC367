{
 "cells": [
  {
   "cell_type": "code",
   "execution_count": 1,
   "id": "upper-tulsa",
   "metadata": {},
   "outputs": [],
   "source": [
    "import seaborn as sns\n",
    "import matplotlib.pyplot as plt\n",
    "import matplotlib.patches as mpatches\n",
    "import pandas as pd\n",
    "import numpy as np"
   ]
  },
  {
   "cell_type": "code",
   "execution_count": 4,
   "id": "explicit-green",
   "metadata": {},
   "outputs": [
    {
     "data": {
      "text/html": [
       "<div>\n",
       "<style scoped>\n",
       "    .dataframe tbody tr th:only-of-type {\n",
       "        vertical-align: middle;\n",
       "    }\n",
       "\n",
       "    .dataframe tbody tr th {\n",
       "        vertical-align: top;\n",
       "    }\n",
       "\n",
       "    .dataframe thead th {\n",
       "        text-align: right;\n",
       "    }\n",
       "</style>\n",
       "<table border=\"1\" class=\"dataframe\">\n",
       "  <thead>\n",
       "    <tr style=\"text-align: right;\">\n",
       "      <th></th>\n",
       "      <th>date</th>\n",
       "      <th>user</th>\n",
       "      <th>page</th>\n",
       "      <th>duration</th>\n",
       "    </tr>\n",
       "  </thead>\n",
       "  <tbody>\n",
       "    <tr>\n",
       "      <th>0</th>\n",
       "      <td>2021-01-01</td>\n",
       "      <td>17789</td>\n",
       "      <td>about</td>\n",
       "      <td>9</td>\n",
       "    </tr>\n",
       "    <tr>\n",
       "      <th>1</th>\n",
       "      <td>2021-01-01</td>\n",
       "      <td>17789</td>\n",
       "      <td>search</td>\n",
       "      <td>27</td>\n",
       "    </tr>\n",
       "    <tr>\n",
       "      <th>2</th>\n",
       "      <td>2021-01-01</td>\n",
       "      <td>17789</td>\n",
       "      <td>search</td>\n",
       "      <td>9</td>\n",
       "    </tr>\n",
       "    <tr>\n",
       "      <th>3</th>\n",
       "      <td>2021-01-01</td>\n",
       "      <td>17789</td>\n",
       "      <td>about</td>\n",
       "      <td>41</td>\n",
       "    </tr>\n",
       "    <tr>\n",
       "      <th>4</th>\n",
       "      <td>2021-01-01</td>\n",
       "      <td>17789</td>\n",
       "      <td>search</td>\n",
       "      <td>12</td>\n",
       "    </tr>\n",
       "    <tr>\n",
       "      <th>...</th>\n",
       "      <td>...</td>\n",
       "      <td>...</td>\n",
       "      <td>...</td>\n",
       "      <td>...</td>\n",
       "    </tr>\n",
       "    <tr>\n",
       "      <th>26963</th>\n",
       "      <td>2021-03-01</td>\n",
       "      <td>20762</td>\n",
       "      <td>search</td>\n",
       "      <td>25</td>\n",
       "    </tr>\n",
       "    <tr>\n",
       "      <th>26964</th>\n",
       "      <td>2021-03-01</td>\n",
       "      <td>20762</td>\n",
       "      <td>profile</td>\n",
       "      <td>27</td>\n",
       "    </tr>\n",
       "    <tr>\n",
       "      <th>26965</th>\n",
       "      <td>2021-03-01</td>\n",
       "      <td>20762</td>\n",
       "      <td>listings</td>\n",
       "      <td>66</td>\n",
       "    </tr>\n",
       "    <tr>\n",
       "      <th>26966</th>\n",
       "      <td>2021-03-01</td>\n",
       "      <td>20762</td>\n",
       "      <td>about</td>\n",
       "      <td>18</td>\n",
       "    </tr>\n",
       "    <tr>\n",
       "      <th>26967</th>\n",
       "      <td>2021-03-01</td>\n",
       "      <td>20762</td>\n",
       "      <td>profile</td>\n",
       "      <td>28</td>\n",
       "    </tr>\n",
       "  </tbody>\n",
       "</table>\n",
       "<p>26968 rows × 4 columns</p>\n",
       "</div>"
      ],
      "text/plain": [
       "             date   user      page  duration\n",
       "0      2021-01-01  17789     about         9\n",
       "1      2021-01-01  17789    search        27\n",
       "2      2021-01-01  17789    search         9\n",
       "3      2021-01-01  17789     about        41\n",
       "4      2021-01-01  17789    search        12\n",
       "...           ...    ...       ...       ...\n",
       "26963  2021-03-01  20762    search        25\n",
       "26964  2021-03-01  20762   profile        27\n",
       "26965  2021-03-01  20762  listings        66\n",
       "26966  2021-03-01  20762     about        18\n",
       "26967  2021-03-01  20762   profile        28\n",
       "\n",
       "[26968 rows x 4 columns]"
      ]
     },
     "execution_count": 4,
     "metadata": {},
     "output_type": "execute_result"
    }
   ],
   "source": [
    "df = pd.read_csv('logs.csv',sep=',',skiprows=0)\n",
    "df"
   ]
  },
  {
   "cell_type": "code",
   "execution_count": 14,
   "id": "defensive-browser",
   "metadata": {},
   "outputs": [
    {
     "name": "stdout",
     "output_type": "stream",
     "text": [
      "Unique users: 2974\n"
     ]
    }
   ],
   "source": [
    "uniqueUsers = df['user'].nunique()\n",
    "print(\"Unique users: \" + str(uniqueUsers))"
   ]
  },
  {
   "cell_type": "code",
   "execution_count": 16,
   "id": "personal-judgment",
   "metadata": {},
   "outputs": [
    {
     "data": {
      "text/plain": [
       "page\n",
       "about       116438\n",
       "home        113527\n",
       "listings    336736\n",
       "profile     169051\n",
       "search      394931\n",
       "Name: duration, dtype: int64"
      ]
     },
     "execution_count": 16,
     "metadata": {},
     "output_type": "execute_result"
    }
   ],
   "source": [
    "byPage = df.groupby(['page'])['duration'].sum()\n",
    "byUserPage = df.groupby(['user','page']).sum()\n",
    "byPage\n"
   ]
  },
  {
   "cell_type": "code",
   "execution_count": 19,
   "id": "adverse-replication",
   "metadata": {},
   "outputs": [
    {
     "data": {
      "text/plain": [
       "page\n",
       "about       42.325700\n",
       "home        42.376633\n",
       "listings    41.908650\n",
       "profile     41.322659\n",
       "search      41.960370\n",
       "Name: duration, dtype: float64"
      ]
     },
     "execution_count": 19,
     "metadata": {},
     "output_type": "execute_result"
    }
   ],
   "source": [
    "meanDurations = df.groupby(['page'])['duration'].mean() # people spent about the same time on average on each page\n",
    "meanDurations"
   ]
  },
  {
   "cell_type": "code",
   "execution_count": 22,
   "id": "adjustable-loading",
   "metadata": {},
   "outputs": [
    {
     "data": {
      "text/plain": [
       "page\n",
       "about       37\n",
       "home        38\n",
       "listings    37\n",
       "profile     37\n",
       "search      37\n",
       "Name: duration, dtype: int64"
      ]
     },
     "execution_count": 22,
     "metadata": {},
     "output_type": "execute_result"
    }
   ],
   "source": [
    "medianDurations = df.groupby(['page'])['duration'].median()\n",
    "medianDurations"
   ]
  },
  {
   "cell_type": "code",
   "execution_count": 27,
   "id": "resident-trash",
   "metadata": {},
   "outputs": [
    {
     "data": {
      "text/plain": [
       "<AxesSubplot:title={'center':'duration'}, xlabel='page'>"
      ]
     },
     "execution_count": 27,
     "metadata": {},
     "output_type": "execute_result"
    },
    {
     "data": {
      "image/png": "[encoded data removed]",
      "text/plain": [
       "<Figure size 648x504 with 1 Axes>"
      ]
     },
     "metadata": {},
     "output_type": "display_data"
    }
   ],
   "source": [
    "sns.set(rc={'figure.figsize':(9,7)})\n",
    "sns.set_style(\"ticks\")\n",
    "df.boxplot(column='duration',by='page')\n",
    "# data is quite skewed, has a lot of larger outliers"
   ]
  }
 ],
 "metadata": {
  "kernelspec": {
   "display_name": "Python 3",
   "language": "python",
   "name": "python3"
  },
  "language_info": {
   "codemirror_mode": {
    "name": "ipython",
    "version": 3
   },
   "file_extension": ".py",
   "mimetype": "text/x-python",
   "name": "python",
   "nbconvert_exporter": "python",
   "pygments_lexer": "ipython3",
   "version": "3.9.1"
  }
 },
 "nbformat": 4,
 "nbformat_minor": 5
}
