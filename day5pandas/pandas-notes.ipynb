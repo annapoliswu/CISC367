{
 "cells": [
  {
   "cell_type": "code",
   "execution_count": 19,
   "id": "eastern-framing",
   "metadata": {
    "tags": []
   },
   "outputs": [
    {
     "name": "stdout",
     "output_type": "stream",
     "text": [
      "Index(['A', 'B', 'C', 'D'], dtype='object')\n",
      "Index(['a', 'b', 'c', 'd', 'e'], dtype='object')\n",
      "   A   B   C   D\n",
      "a  1  10  11  12\n",
      "b  2  20  22  24\n",
      "c  3  30  33  51\n"
     ]
    }
   ],
   "source": [
    "import pandas as pd\n",
    "import numpy as np\n",
    "df = pd.DataFrame({\"A\":[1, 2, 3, 4, 5],  \n",
    "                   \"B\":[10, 20, 30, 40, 50], \n",
    "                   \"C\":[11, 22, 33, 44, 55], \n",
    "                   \"D\":[12, 24, 51, 36, 2]},  \n",
    "                    index = ['a','b','c','d','e']) \n",
    "\n",
    "print(df.columns) #column names\n",
    "print(df.index) #row names\n",
    "print(df.head(3)) #first 3 rows"
   ]
  },
  {
   "cell_type": "code",
   "execution_count": 20,
   "id": "secondary-greenhouse",
   "metadata": {},
   "outputs": [
    {
     "name": "stdout",
     "output_type": "stream",
     "text": [
      "a    1\n",
      "b    2\n",
      "c    3\n",
      "d    4\n",
      "e    5\n",
      "Name: A, dtype: int64\n",
      "   A\n",
      "a  1\n",
      "b  2\n",
      "c  3\n",
      "d  4\n",
      "e  5\n",
      "    C   D\n",
      "a  11  12\n",
      "b  22  24\n",
      "c  33  51\n",
      "d  44  36\n",
      "e  55   2\n"
     ]
    }
   ],
   "source": [
    "print(df['A']) #column A as series\n",
    "print(df[['A']]) #column A in df\n",
    "print(df[['C','D']]) #column C and D in df"
   ]
  },
  {
   "cell_type": "code",
   "execution_count": 22,
   "id": "announced-entrepreneur",
   "metadata": {
    "tags": []
   },
   "outputs": [
    {
     "name": "stdout",
     "output_type": "stream",
     "text": [
      "   A   B   C   D\n",
      "a  1  10  11  12\n",
      "b  2  20  22  24\n",
      "c  3  30  33  51\n",
      "d  4  40  44  36\n",
      "e  5  50  55   2\n",
      "   A   B   C   D\n",
      "a  1  10  11  12\n",
      "   A   B   C   D\n",
      "c  3  30  33  51\n",
      "d  4  40  44  36\n",
      "   A   B   C   D\n",
      "a  1  10  11  12\n",
      "b  2  20  22  24\n",
      "c  3  30  33  51\n",
      "   A   B   C   D\n",
      "c  3  30  33  51\n",
      "d  4  40  44  36\n",
      "e  5  50  55   2\n",
      "   A   B   C   D\n",
      "c  3  30  33  51\n",
      "d  4  40  44  36\n",
      "e  5  50  55   2\n"
     ]
    }
   ],
   "source": [
    "print(df)\n",
    "print(df.loc[['a']]) #row a\n",
    "print(df.loc[['c','d']]) #row c and d\n",
    "print(df.iloc[0:3]) #first 3 rows\n",
    "\n",
    "print(df[df['A'] > 2] ) #rows where the value in col A > 2\n",
    "print(df.loc[df['A'] > 2] ) #rows where the value in col A > 2"
   ]
  },
  {
   "cell_type": "code",
   "execution_count": null,
   "id": "prime-thunder",
   "metadata": {},
   "outputs": [],
   "source": []
  }
 ],
 "metadata": {
  "kernelspec": {
   "display_name": "Python 3",
   "language": "python",
   "name": "python3"
  },
  "language_info": {
   "codemirror_mode": {
    "name": "ipython",
    "version": 3
   },
   "file_extension": ".py",
   "mimetype": "text/x-python",
   "name": "python",
   "nbconvert_exporter": "python",
   "pygments_lexer": "ipython3",
   "version": "3.9.1"
  }
 },
 "nbformat": 4,
 "nbformat_minor": 5
}
