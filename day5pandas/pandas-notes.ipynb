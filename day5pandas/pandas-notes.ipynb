{
 "cells": [
  {
   "cell_type": "code",
   "execution_count": 17,
   "id": "developmental-estimate",
   "metadata": {},
   "outputs": [
    {
     "name": "stdout",
     "output_type": "stream",
     "text": [
      "   A   B   C   D\n",
      "a  1  10  11  12\n",
      "b  2  20  22  24\n",
      "c  3  30  33  51\n",
      "d  4  40  44  36\n",
      "e  5  50  55   2\n",
      "a    1\n",
      "b    2\n",
      "c    3\n",
      "d    4\n",
      "e    5\n",
      "Name: A, dtype: int64\n",
      "   A\n",
      "a  1\n",
      "b  2\n",
      "c  3\n",
      "d  4\n",
      "e  5\n",
      "    C   D\n",
      "a  11  12\n",
      "b  22  24\n",
      "c  33  51\n",
      "d  44  36\n",
      "e  55   2\n",
      "   A   B   C   D\n",
      "c  3  30  33  51\n",
      "d  4  40  44  36\n",
      "e  5  50  55   2\n",
      "   A   B   C   D\n",
      "a  1  10  11  12\n",
      "   A   B   C   D\n",
      "c  3  30  33  51\n",
      "d  4  40  44  36\n"
     ]
    }
   ],
   "source": [
    "import pandas as pd\n",
    "import numpy as np\n",
    "df = pd.DataFrame({\"A\":[1, 2, 3, 4, 5],  \n",
    "                   \"B\":[10, 20, 30, 40, 50], \n",
    "                   \"C\":[11, 22, 33, 44, 55], \n",
    "                   \"D\":[12, 24, 51, 36, 2]},  \n",
    "                    index = ['a','b','c','d','e']) \n",
    "print(df)\n",
    "\n",
    "print(df['A']) #column A as series\n",
    "\n",
    "print(df[['A']]) #column A in df\n",
    "print(df[['C','D']]) #column C and D in df\n",
    "print(df[df['A'] > 2] )\n",
    "\n",
    "print(df.loc[['a']]) #row a\n",
    "print(df.loc[['c','d']]) #row c and d\n"
   ]
  },
  {
   "cell_type": "code",
   "execution_count": null,
   "id": "forward-relations",
   "metadata": {},
   "outputs": [],
   "source": []
  }
 ],
 "metadata": {
  "kernelspec": {
   "display_name": "Python 3",
   "language": "python",
   "name": "python3"
  },
  "language_info": {
   "codemirror_mode": {
    "name": "ipython",
    "version": 3
   },
   "file_extension": ".py",
   "mimetype": "text/x-python",
   "name": "python",
   "nbconvert_exporter": "python",
   "pygments_lexer": "ipython3",
   "version": "3.9.1"
  }
 },
 "nbformat": 4,
 "nbformat_minor": 5
}
