{
 "cells": [
  {
   "cell_type": "markdown",
   "id": "hungry-platform",
   "metadata": {},
   "source": [
    "# Questions\n",
    "\n",
    "Fill in your name and the link to this file on your github.\n",
    "\n",
    "* Name: Anna Wu\n",
    "* Link to github URL: https://github.com/annapoliswu/CISC367/tree/main/day19machineLearning"
   ]
  },
  {
   "cell_type": "code",
   "execution_count": 18,
   "id": "advance-wyoming",
   "metadata": {},
   "outputs": [],
   "source": [
    "import pandas as pd\n",
    "import numpy as np\n",
    "import scipy.stats as st\n",
    "import matplotlib.pyplot as plt\n",
    "import scipy\n",
    "\n",
    "from sklearn.naive_bayes import GaussianNB\n",
    "from sklearn import metrics\n",
    "from sklearn import datasets\n",
    "from sklearn.model_selection import train_test_split\n",
    "from sklearn.linear_model import LinearRegression"
   ]
  },
  {
   "cell_type": "markdown",
   "id": "indoor-aberdeen",
   "metadata": {},
   "source": [
    "# ML: Linear Regression\n",
    "\n",
    "So this starts with linear regression. If you want a deeper dive than what I cover in class, you can refer to [this page](https://realpython.com/linear-regression-in-python/)\n",
    "\n",
    "The exercises come from this workbook, which has somewhat helpful explanations too: https://csmastersuh.github.io/data_analysis_with_python_2020/linear_regression.html"
   ]
  },
  {
   "cell_type": "markdown",
   "id": "geological-norman",
   "metadata": {},
   "source": [
    "# Exercise 10: Linear Regression\n",
    "\n",
    "You'll need to make up some data for this. Don't spend too much time on this one, it's less interesting compared to the others."
   ]
  },
  {
   "cell_type": "code",
   "execution_count": 30,
   "id": "overhead-powell",
   "metadata": {},
   "outputs": [
    {
     "data": {
      "text/plain": [
       "array([ 0.        ,  0.52631579,  1.05263158,  1.57894737,  2.10526316,\n",
       "        2.63157895,  3.15789474,  3.68421053,  4.21052632,  4.73684211,\n",
       "        5.26315789,  5.78947368,  6.31578947,  6.84210526,  7.36842105,\n",
       "        7.89473684,  8.42105263,  8.94736842,  9.47368421, 10.        ])"
      ]
     },
     "metadata": {},
     "output_type": "display_data"
    },
    {
     "data": {
      "text/plain": [
       "array([ 1.84839431,  2.08476248,  0.784237  ,  4.8334858 ,  4.0986129 ,\n",
       "        6.7630286 ,  7.30164947, 10.27173882, 10.75905441,  9.93062668,\n",
       "       12.34189667, 13.19490262, 14.1712042 , 14.1592285 , 16.190294  ,\n",
       "       17.86756224, 17.31962161, 17.28486785, 20.03777192, 20.11160172])"
      ]
     },
     "metadata": {},
     "output_type": "display_data"
    },
    {
     "data": {
      "image/png": "[encoded data removed]",
      "text/plain": [
       "<Figure size 432x288 with 1 Axes>"
      ]
     },
     "metadata": {
      "needs_background": "light"
     },
     "output_type": "display_data"
    },
    {
     "data": {
      "image/png": "[encoded data removed]",
      "text/plain": [
       "<Figure size 432x288 with 1 Axes>"
      ]
     },
     "metadata": {
      "needs_background": "light"
     },
     "output_type": "display_data"
    },
    {
     "name": "stdout",
     "output_type": "stream",
     "text": [
      "Slope: 1.9650776508396557\n",
      "Intercept: 1.2423388348082707\n"
     ]
    }
   ],
   "source": [
    "n=20\n",
    "# Linearly increasing x values\n",
    "x = np.linspace(0, 10, n)\n",
    "# Wonky line of points\n",
    "y = x*2 + 1 + 1*np.random.randn(n)\n",
    "display(x, y)\n",
    "plt.scatter(x, y)\n",
    "plt.show()\n",
    "\n",
    "# Do actual linear regression here\n",
    "def fit_line(x, y):\n",
    "    model = LinearRegression(fit_intercept=True)\n",
    "    model.fit(x[:,np.newaxis], y)\n",
    "    return (model.coef_[0], model.intercept_)\n",
    "\n",
    "\n",
    "slope, intercept = fit_line(x,y);\n",
    "xfit = np.linspace(0,10,100) # returns every split 100 nums from 0 to 10\n",
    "yfit = slope * xfit + intercept\n",
    "\n",
    "plt.plot(xfit,yfit, color=\"red\")\n",
    "plt.plot(x,y, 'o')\n",
    "plt.plot(np.vstack([x,x]), np.vstack([y, model.predict(x[:, np.newaxis])]), color=\"red\");\n",
    "plt.show()\n",
    "\n",
    "print(\"Slope:\", slope)\n",
    "print(\"Intercept:\", intercept)"
   ]
  },
  {
   "cell_type": "markdown",
   "id": "prescribed-belief",
   "metadata": {},
   "source": [
    "# Exercise 11: Mystery Data\n",
    "\n",
    "This one is far more interesting. You can download the file from [here](https://raw.githubusercontent.com/AnkS4/hy-data-analysis-with-python-2020/master/part05-e11_mystery_data/src/mystery_data.tsv). Make sure it gets the right filename!\n",
    "\n",
    "You don't need to define any functions, as they demand, although you might find that helpful to do."
   ]
  },
  {
   "cell_type": "code",
   "execution_count": 67,
   "id": "synthetic-organ",
   "metadata": {},
   "outputs": [
    {
     "name": "stdout",
     "output_type": "stream",
     "text": [
      "Coefficient of X1 is 2.9999999999999907\n",
      "Coefficient of X2 is -1.0\n",
      "Coefficient of X3 is 6.999999999999998\n",
      "Coefficient of X4 is 4.440892098500626e-16\n",
      "Coefficient of X5 is -19.999999999999996\n"
     ]
    }
   ],
   "source": [
    "def mystery_data():\n",
    "    df = pd.read_csv(\"mystery_data.tsv\", sep=\"\\t\")\n",
    "    model = LinearRegression(fit_intercept=False)\n",
    "    model.fit( df[[\"X1\", \"X2\", \"X3\", \"X4\", \"X5\"]], df[[\"Y\"]] )\n",
    "    return model.coef_[0]\n",
    "\n",
    "arr = mystery_data()\n",
    "for i in range(len(arr)):\n",
    "    print( \"Coefficient of X\" + str(i+1) + \" is \" + str(arr[i]) )"
   ]
  },
  {
   "cell_type": "markdown",
   "id": "faced-prediction",
   "metadata": {},
   "source": [
    "## Exercise 12: Coefficient of Determination\n",
    "\n",
    "Read over this entire problem, parts 1 and 2.\n",
    "\n",
    "This reuses the same `mystery_data.tsv` file as before.\n",
    "\n",
    "Again, you do not need to define their function. Just calculate the R2 scores and print them, as they direct."
   ]
  },
  {
   "cell_type": "code",
   "execution_count": 140,
   "id": "independent-struggle",
   "metadata": {},
   "outputs": [
    {
     "name": "stdout",
     "output_type": "stream",
     "text": [
      "R2-score with feature(s) X: 1.0\n",
      "R2-score with feature(s) X1: 0.01691827260276857\n",
      "R2-score with feature(s) X2: 0.008964585308688933\n",
      "R2-score with feature(s) X3: 0.08785404530656282\n",
      "R2-score with feature(s) X4: 0.0003023708825460325\n",
      "R2-score with feature(s) X5: 0.8679744020096123\n"
     ]
    }
   ],
   "source": [
    "def coefficient_of_determination():\n",
    "    df = pd.read_csv(\"mystery_data.tsv\", sep=\"\\t\")\n",
    "    x = df.iloc[:, 0:5] #is an array of arrays, df of X1-X5\n",
    "    y = df.iloc[:, 5]\n",
    "    model = LinearRegression(fit_intercept=True)\n",
    "    model.fit(x,y)\n",
    "    scores = []\n",
    "    scores.append(model.score(x, y))\n",
    "    for i in range(5):\n",
    "        model.fit(x.iloc[:, i].values.reshape(-1, 1), y)\n",
    "        score = model.score(x.iloc[:, i].values.reshape(-1, 1), y)  ##needs a df, a 2D array, reshape\n",
    "        scores.append(score)\n",
    "    return scores\n",
    "\n",
    "scores = coefficient_of_determination()\n",
    "for i, score in enumerate(scores):\n",
    "    if i == 0:\n",
    "        print(\"R2-score with feature(s) X: \" + str(score) )\n",
    "    else:\n",
    "        print(\"R2-score with feature(s) X\" + str(i) + \": \" + str(score) )\n",
    "        \n",
    "# measuring the goodness of fit reg for all 5 factors, then each individually"
   ]
  },
  {
   "cell_type": "markdown",
   "id": "ultimate-marketing",
   "metadata": {},
   "source": [
    "## Exercise 13: Cycling Weather\n",
    "\n",
    "I've already prepared the data that they require for this assignment. You can download it [here](https://gist.githubusercontent.com/acbart/466174a04e9a2505c4c25f91fc6dd4f6/raw/726865070677ec7dede17a08095624e0ea35e7cd/biking.csv).\n",
    "\n",
    "The first column is the index, you can safely ignore it. The next 7 columns are straightforward. The last few columns are locations in Finland that have measuring stations. I recommend using `Baana` as they say in the instructions for testing.\n"
   ]
  },
  {
   "cell_type": "code",
   "execution_count": 138,
   "id": "typical-edwards",
   "metadata": {},
   "outputs": [
    {
     "name": "stdout",
     "output_type": "stream",
     "text": [
      "Measuring station: Baana\n",
      "Regression coefficient for variable 'precipitation': -52.2\n",
      "Regression coefficient for variable 'snow depth':  -32.9\n",
      "Regression coefficient for variable 'temperature': 169.2\n",
      "Score: 0.58\n"
     ]
    }
   ],
   "source": [
    "def cycling_weather_continues(station):\n",
    "    df = pd.read_csv(\"biking.csv\", sep=\",\")\n",
    "    model = LinearRegression(fit_intercept=True)\n",
    "    x = df[[ 'Precipitation amount (mm)', 'Snow depth (cm)', 'Air temperature (degC)' ]]\n",
    "    y = df[[ station ]]\n",
    "    model.fit(x, y)\n",
    "    return (model.coef_[0], model.score(x, y)) \n",
    "    # coef gives all 3 reg slopes for the 3 columns\n",
    "    # score gives r^2, measure of goodness of fit. includes all 3 x factors\n",
    "    \n",
    "station = \"Baana\"\n",
    "coeffs, score = cycling_weather_continues(station)\n",
    "print(f\"Measuring station: {station}\" )\n",
    "print(f\"Regression coefficient for variable 'precipitation': {coeffs[0]:.1f}\")\n",
    "print(f\"Regression coefficient for variable 'snow depth':  {coeffs[1]:.1f}\")\n",
    "print(f\"Regression coefficient for variable 'temperature': {coeffs[2]:.1f}\")\n",
    "print(f\"Score: {score:.2f}\")"
   ]
  },
  {
   "cell_type": "markdown",
   "id": "exclusive-block",
   "metadata": {},
   "source": [
    "# ML Naive Bayes Classification\n",
    "\n",
    "This is the next section of the exercises, from: https://csmastersuh.github.io/data_analysis_with_python_2020/bayes.html\n",
    "\n",
    "In addition to the reading, I recommend this video: https://www.youtube.com/watch?v=CPqOCI0ahss\n",
    "\n",
    "\n",
    "## Exercise 1: Blob Classification\n",
    "\n",
    "(**OPTIONAL**) This one is very vague, and they're actually asking you to generate your own test data using the `make_blobs` function from `sklearn`'s `datasets` submodule. I've already started that work for you. But honestly if you want to skip it, I don't think it's a helpful starting question."
   ]
  },
  {
   "cell_type": "code",
   "execution_count": 147,
   "id": "twenty-leonard",
   "metadata": {},
   "outputs": [
    {
     "name": "stdout",
     "output_type": "stream",
     "text": [
      "The accuracy score is 0.92\n",
      "array([[2.  , 2.  , 0.  , 2.5 , 0.76],\n",
      "       [2.  , 3.  , 1.  , 1.5 , 0.96],\n",
      "       [2.  , 2.  , 6.  , 3.5 , 0.84],\n",
      "       [2.  , 2.  , 3.  , 1.2 , 1.  ],\n",
      "       [2.  , 4.  , 4.  , 2.7 , 0.8 ]])\n"
     ]
    }
   ],
   "source": [
    "def blob_classification(X, y):\n",
    "    # Put ML stuff here\n",
    "    model = GaussianNB()\n",
    "    xtrain, xtest, ytrain, ytest = train_test_split(X, y, train_size=.75, random_state=0)\n",
    "    model.fit(xtrain, ytrain)\n",
    "    yfitted = model.predict(xtest)\n",
    "    return metrics.accuracy_score(ytest,yfitted)\n",
    "\n",
    "# Create the training data and validation data\n",
    "X, y = datasets.make_blobs(100, 2, centers=2, random_state=2, cluster_std=2.5)\n",
    "# Run your ML predictions\n",
    "print(\"The accuracy score is\", blob_classification(X, y))\n",
    "\n",
    "# Run this on some new data\n",
    "a=np.array([[2, 2, 0, 2.5],\n",
    "            [2, 3, 1, 1.5],\n",
    "            [2, 2, 6, 3.5],\n",
    "            [2, 2, 3, 1.2],\n",
    "            [2, 4, 4, 2.7]])\n",
    "accuracies = []\n",
    "for row in a:\n",
    "    X,y = datasets.make_blobs(100, int(row[0]), centers=int(row[1]),\n",
    "                              random_state=int(row[2]), cluster_std=row[3])\n",
    "    accuracies.append(blob_classification(X, y))\n",
    "print(repr(np.hstack([a, np.array(accuracies)[:,np.newaxis]])))\n",
    "# The last column should be the categorizations"
   ]
  },
  {
   "cell_type": "markdown",
   "id": "tough-girlfriend",
   "metadata": {},
   "source": [
    "## Exercise 2: Plant Classification\n",
    "\n",
    "This is a much better question. The Iris dataset is a classic: https://en.wikipedia.org/wiki/Iris_flower_data_set\n",
    "\n",
    "The wikipedia page gives an example of how to load the dataset."
   ]
  },
  {
   "cell_type": "code",
   "execution_count": 161,
   "id": "endangered-talent",
   "metadata": {},
   "outputs": [
    {
     "name": "stdout",
     "output_type": "stream",
     "text": [
      "Accuracy is: 0.9666666666666667\n"
     ]
    }
   ],
   "source": [
    "from sklearn.datasets import load_iris\n",
    "\n",
    "# data is 150 records of iris plants (four features)\n",
    "# target is which type of iris plant it's classified as in target_names\n",
    "\n",
    "def plant_classification():\n",
    "    iris = load_iris()\n",
    "    X = iris.data\n",
    "    y = iris.target\n",
    "    model = GaussianNB()\n",
    "    xtrain, xtest, ytrain, ytest = train_test_split(X, y, train_size=.8, random_state=0)\n",
    "    model.fit(xtrain, ytrain)\n",
    "    yfitted = model.predict(xtest)\n",
    "    return metrics.accuracy_score(ytest,yfitted)\n",
    "\n",
    "print(\"Accuracy is: \" + str(plant_classification()))"
   ]
  },
  {
   "cell_type": "markdown",
   "id": "hindu-renaissance",
   "metadata": {},
   "source": [
    "## Exercise 3: Word Classification\n",
    "\n",
    "(**Skip**)\n",
    "\n",
    "This one is too much. They give some of the data as an XML file. It's an interesting problem, and you can find the data (and solution) [here](https://github.com/AnkS4/hy-data-analysis-with-python-2020/tree/master/part06-e03_word_classification/src) if you want to tackle it, but I'm skipping it.\n"
   ]
  },
  {
   "cell_type": "code",
   "execution_count": null,
   "id": "timely-scenario",
   "metadata": {},
   "outputs": [],
   "source": []
  },
  {
   "cell_type": "markdown",
   "id": "whole-sacramento",
   "metadata": {},
   "source": [
    "## Exercise 4: Spam Detection\n",
    "\n",
    "Download [ham.txt.gz](https://github.com/AnkS4/hy-data-analysis-with-python-2020/raw/master/part06-e04_spam_detection/src/ham.txt.gz) and [spam.txt.gz](https://github.com/AnkS4/hy-data-analysis-with-python-2020/raw/master/part06-e04_spam_detection/src/spam.txt.gz).\n",
    "\n",
    "This one is much more interesting and reasonable. It requires processing some large text files, but that's actually the easiest part, as shown in the code below. The idea is that you have spam (bad emails) and ham (good emails), and you want to determine which is which. I've done similar email processing (detecting job ads for a conference) and I was impressed with how easily I could train a little data and get very good results."
   ]
  },
  {
   "cell_type": "code",
   "execution_count": 180,
   "id": "happy-spyware",
   "metadata": {},
   "outputs": [
    {
     "name": "stdout",
     "output_type": "stream",
     "text": [
      "Number of spam emails loaded as strings: 50\n",
      "Number of emails loaded as strings: 250\n"
     ]
    },
    {
     "data": {
      "text/plain": [
       "(0.96, 75, 3)"
      ]
     },
     "execution_count": 180,
     "metadata": {},
     "output_type": "execute_result"
    }
   ],
   "source": [
    "import gzip\n",
    "from sklearn.feature_extraction.text import CountVectorizer\n",
    "from sklearn.naive_bayes import MultinomialNB\n",
    "\n",
    "def spam_detection(fraction):\n",
    "    \n",
    "    # Load the spam emails as strings in a list.\n",
    "    with gzip.open('spam.txt.gz', 'rb') as spam_file:\n",
    "        spam = spam_file.readlines()\n",
    "        spam = spam[:int(fraction * len(spam) )]\n",
    "    print(\"Number of spam emails loaded as strings:\", len(spam))\n",
    "\n",
    "    # Now do the same thing with the `ham.txt.gz`\n",
    "    with gzip.open('ham.txt.gz', 'rb') as ham_file:\n",
    "        ham = ham_file.readlines()\n",
    "        ham = ham[:int(fraction * len(ham) )]\n",
    "    print(\"Number of emails loaded as strings:\", len(ham))\n",
    "    \n",
    "    # combine matrices\n",
    "    X = ham + spam\n",
    "    vec=CountVectorizer()\n",
    "    X=vec.fit_transform(X).toarray()\n",
    "    \n",
    "    # classify non-spam emails (ham) as 0 and spam emails as 1\n",
    "    y = np.zeros(len(X))\n",
    "    y[len(ham):] = 1\n",
    "    \n",
    "    # train model\n",
    "    model = MultinomialNB()\n",
    "    xtrain, xtest, ytrain, ytest = train_test_split(X, y, train_size=.75, random_state=0)\n",
    "    model.fit(xtrain, ytrain)\n",
    "    yfitted = model.predict(xtest)\n",
    "    \n",
    "    # return stuff\n",
    "    accuracy = metrics.accuracy_score(ytest, yfitted)\n",
    "    size = len(xtest)\n",
    "    misclassified = int( (1 - accuracy) * size )\n",
    "    \n",
    "    return (accuracy, size, misclassified)\n",
    "    \n",
    "    \n",
    "spam_detection(.1)"
   ]
  },
  {
   "cell_type": "markdown",
   "id": "hispanic-march",
   "metadata": {},
   "source": [
    "# ML Clustering\n",
    "\n",
    "This is the last section: https://csmastersuh.github.io/data_analysis_with_python_2020/clustering.html\n",
    "\n",
    "This section is one of the most interesting in my opinion. K-Means is a pretty straightforward tool, and is really worth learning how to use it."
   ]
  },
  {
   "cell_type": "markdown",
   "id": "dense-continent",
   "metadata": {},
   "source": [
    "## Exercise 5: Plant Clustering\n",
    "\n",
    "Same deal as before; use the IRIS dataset. Since this has so many parameters, it can be tricky to make a good visualization."
   ]
  },
  {
   "cell_type": "code",
   "execution_count": null,
   "id": "expected-reverse",
   "metadata": {},
   "outputs": [],
   "source": []
  },
  {
   "cell_type": "markdown",
   "id": "beneficial-beach",
   "metadata": {},
   "source": [
    "## Exercise 6: Non-convex Clusters\n",
    "\n",
    "The data for this question is [here](https://raw.githubusercontent.com/AnkS4/hy-data-analysis-with-python-2020/master/part06-e06_nonconvex_clusters/src/data.tsv).\n",
    "\n",
    "This one shows off a different clustering algorithm ([`DBSCAN`](https://scikit-learn.org/stable/modules/generated/sklearn.cluster.DBSCAN.html)), which is \"Good for data which contains clusters of similar density\". I wasn't very familiar with DBSCAN, but it does seem much better than KMeans. It doesn't require you to figure out the number of clusters, and seems to be tricked less by unusual data. [This page](https://www.kdnuggets.com/2020/04/dbscan-clustering-algorithm-machine-learning.html) was very helpful in breaking that difference down.\n",
    "\n",
    "The reference answer uses a `for` loop and `np.arange` to try `e` values from 0.05 to 0.2 in 0.05 increments, but I don't mind if you just manually try some different `e` values.\n",
    "\n",
    "Please do make a visualization with clusters colored, since I think that really highlights what we are doing!"
   ]
  },
  {
   "cell_type": "code",
   "execution_count": null,
   "id": "beautiful-failure",
   "metadata": {},
   "outputs": [],
   "source": []
  },
  {
   "cell_type": "markdown",
   "id": "outstanding-courage",
   "metadata": {},
   "source": [
    "## Exercise 7: Binding Sites\n",
    "\n",
    "Download the [`data.seq` file](https://raw.githubusercontent.com/AnkS4/hy-data-analysis-with-python-2020/master/part06-e07_binding_sites/src/data.seq); note that it is just a plain textual data file, despite the fancy extension.\n",
    "\n",
    "They ask you to define `get_features_and_labels` to accept a filename, even though there's only one test file. Up to you if you want to hardcode the file path in or make it a flexible function.\n",
    "\n",
    "There are multiple parts here, and they ask you to compare the euclidean and hamming distance. I think it's worth thinking about - if you don't get what they mean, do ask!"
   ]
  },
  {
   "cell_type": "code",
   "execution_count": 21,
   "id": "upset-yorkshire",
   "metadata": {},
   "outputs": [],
   "source": [
    "\n",
    "# The `find_permutation` function provided in the text, for your convenience\n",
    "def find_permutation(n_clusters, real_labels, labels):\n",
    "    permutation=[]\n",
    "    for i in range(n_clusters):\n",
    "        idx = labels == i\n",
    "        # Choose the most common label among data points in the cluster\n",
    "        new_label=scipy.stats.mode(real_labels[idx])[0][0]\n",
    "        permutation.append(new_label)\n",
    "    return permutation"
   ]
  }
 ],
 "metadata": {
  "kernelspec": {
   "display_name": "Python 3",
   "language": "python",
   "name": "python3"
  },
  "language_info": {
   "codemirror_mode": {
    "name": "ipython",
    "version": 3
   },
   "file_extension": ".py",
   "mimetype": "text/x-python",
   "name": "python",
   "nbconvert_exporter": "python",
   "pygments_lexer": "ipython3",
   "version": "3.9.1"
  }
 },
 "nbformat": 4,
 "nbformat_minor": 5
}
