{
 "cells": [
  {
   "cell_type": "markdown",
   "id": "civil-blood",
   "metadata": {},
   "source": [
    "# Lambdas\n",
    "\n",
    "- (https://realpython.com/python-lambda/)\n",
    "- another way to write functions that return\n",
    "- `somefunc = lambda x, y: x + y + 1`\n",
    "- `(lambda x: x + 1) (2)`\n",
    "- cannot use pass, assert, for, or raise inside\n",
    "- can be used as a anon function, like with filter(function returning t/f, sequence to filter)\n"
   ]
  },
  {
   "cell_type": "markdown",
   "id": "amino-audio",
   "metadata": {},
   "source": [
    "Write a Python program to filter a list of integers for even and odd numbers using Lambda."
   ]
  },
  {
   "cell_type": "code",
   "execution_count": 51,
   "id": "closed-beatles",
   "metadata": {},
   "outputs": [
    {
     "name": "stdout",
     "output_type": "stream",
     "text": [
      "Even nums:  [2, 12, 42, 452]\n",
      "Odd nums:  [1, 3, 11, 123]\n"
     ]
    }
   ],
   "source": [
    "aList = [1,2,3,12,42,11,452,123]\n",
    "filteredEven = filter(lambda x: x % 2 == 0, aList)\n",
    "filteredOdd = filter(lambda x: x % 2 == 1, aList)\n",
    "\n",
    "print(\"Even nums: \", list(filteredEven))\n",
    "print(\"Odd nums: \", list(filteredOdd))"
   ]
  },
  {
   "cell_type": "markdown",
   "id": "included-delhi",
   "metadata": {},
   "source": [
    " Write a Python program to find intersection of two given arrays using Lambda."
   ]
  },
  {
   "cell_type": "code",
   "execution_count": 52,
   "id": "resident-jurisdiction",
   "metadata": {},
   "outputs": [
    {
     "name": "stdout",
     "output_type": "stream",
     "text": [
      "Intersection:  [1, 2, 8, 9]\n"
     ]
    }
   ],
   "source": [
    "list1 = [1, 2, 3, 5, 7, 8, 9, 10]\n",
    "list2 = [1, 2, 4, 8, 9]\n",
    "\n",
    "intersection = list(filter(lambda x: x in list1, list2))\n",
    "print(\"Intersection: \", intersection)"
   ]
  },
  {
   "cell_type": "markdown",
   "id": "automatic-franklin",
   "metadata": {},
   "source": [
    "# Tuples\n",
    "\n",
    "(https://realpython.com/python-lists-tuples/#python-tuples)\n",
    "- like immutable lists\n",
    "- `t = ('foo', 'bar', 'baz', 'qux', 'quux', 'corge')`\n",
    "- can be used in dictionaries where value must be immutable type"
   ]
  },
  {
   "cell_type": "markdown",
   "id": "responsible-rwanda",
   "metadata": {},
   "source": [
    "Write a Python program to get the 4th element and 4th element from last of a tuple."
   ]
  },
  {
   "cell_type": "code",
   "execution_count": 53,
   "id": "closed-mediterranean",
   "metadata": {},
   "outputs": [
    {
     "name": "stdout",
     "output_type": "stream",
     "text": [
      "4th item: 4, 4th from last: 5\n"
     ]
    }
   ],
   "source": [
    "atuple = (1,2,3,4,5,6,7,8)\n",
    "a = atuple[3]\n",
    "b = atuple[-4]\n",
    "print(\"4th item: %s, 4th from last: %s\" %(a,b) )"
   ]
  },
  {
   "cell_type": "markdown",
   "id": "killing-negotiation",
   "metadata": {},
   "source": [
    "Write a Python program to check if a specified element presents in a tuple of tuples."
   ]
  },
  {
   "cell_type": "code",
   "execution_count": 54,
   "id": "universal-equity",
   "metadata": {},
   "outputs": [],
   "source": [
    "def inTuple(find, tt):\n",
    "    for t in tt:\n",
    "        for item in t:\n",
    "            if item == find:\n",
    "                return True\n",
    "    return False\n",
    "\n",
    "\n",
    "atuple = ((\"dog\", \"cat\"), (\"fish\", \"hampster\", \"rabbit\") , (\"cat\",\"cat\",\"dog\" ) ) \n",
    "\n",
    "assert(inTuple(\"fish\",atuple) == True)\n",
    "assert(inTuple(\"bear\", atuple) == False)"
   ]
  },
  {
   "cell_type": "markdown",
   "id": "closing-excitement",
   "metadata": {},
   "source": [
    "Unpack the following tuple into 4 variables"
   ]
  },
  {
   "cell_type": "code",
   "execution_count": 55,
   "id": "young-marshall",
   "metadata": {},
   "outputs": [
    {
     "name": "stdout",
     "output_type": "stream",
     "text": [
      "10 20 30 40\n"
     ]
    }
   ],
   "source": [
    "aTuple = (10, 20, 30, 40)\n",
    "(a,b,c,d) = aTuple\n",
    "print(a, b, c, d)"
   ]
  },
  {
   "cell_type": "markdown",
   "id": "chubby-fashion",
   "metadata": {},
   "source": [
    "# Dictionaries\n",
    "\n",
    "Merge the following two Python dictionaries into one"
   ]
  },
  {
   "cell_type": "code",
   "execution_count": 56,
   "id": "opposite-career",
   "metadata": {},
   "outputs": [
    {
     "name": "stdout",
     "output_type": "stream",
     "text": [
      "{'Ten': 10, 'Twenty': 20, 'Thirty': 30, 'Fourty': 40, 'Fifty': 50}\n",
      "{'Ten': 10, 'Twenty': 20, 'Thirty': 30, 'Fourty': 40, 'Fifty': 50}\n"
     ]
    }
   ],
   "source": [
    "dict1 = {'Ten': 10, 'Twenty': 20, 'Thirty': 30}\n",
    "dict2 = {'Thirty': 30, 'Fourty': 40, 'Fifty': 50}\n",
    "\n",
    "dict3 = {**dict1, **dict2}\n",
    "dict4 = dict1.copy()\n",
    "dict4.update(dict2)\n",
    "print(dict3)\n",
    "print(dict4)"
   ]
  },
  {
   "cell_type": "markdown",
   "id": "attached-beads",
   "metadata": {},
   "source": [
    "Delete set of keys from Python Dictionary"
   ]
  },
  {
   "cell_type": "code",
   "execution_count": 57,
   "id": "defensive-google",
   "metadata": {},
   "outputs": [
    {
     "name": "stdout",
     "output_type": "stream",
     "text": [
      "{'age': 25, 'city': 'New york'}\n"
     ]
    }
   ],
   "source": [
    "sampleDict = {\n",
    "  \"name\": \"Kelly\",\n",
    "  \"age\":25,\n",
    "  \"salary\": 8000,\n",
    "  \"city\": \"New york\"\n",
    "  \n",
    "}\n",
    "keysToRemove = [\"name\", \"salary\"]\n",
    "\n",
    "for key in keysToRemove:\n",
    "    sampleDict.pop(key)\n",
    "    \n",
    "print(sampleDict)"
   ]
  },
  {
   "cell_type": "markdown",
   "id": "covered-trademark",
   "metadata": {},
   "source": [
    "Write a Python script to print a dictionary where the keys are numbers between 1 and 15 (both included) and the values are square of keys."
   ]
  },
  {
   "cell_type": "code",
   "execution_count": 58,
   "id": "accurate-recognition",
   "metadata": {},
   "outputs": [
    {
     "name": "stdout",
     "output_type": "stream",
     "text": [
      "{1: 1, 2: 4, 3: 9, 4: 16, 5: 25, 6: 36, 7: 49, 8: 64, 9: 81, 10: 100, 11: 121, 12: 144, 13: 169, 14: 196, 15: 225}\n"
     ]
    }
   ],
   "source": [
    "aDict = {}\n",
    "for i in range(1,16):\n",
    "    aDict[i] = i*i\n",
    "\n",
    "print(aDict)"
   ]
  },
  {
   "cell_type": "markdown",
   "id": "apart-trance",
   "metadata": {},
   "source": [
    "Write a Python program to create a dictionary from a string.\n",
    "Note: Track the count of the letters from the string."
   ]
  },
  {
   "cell_type": "code",
   "execution_count": 59,
   "id": "mineral-scope",
   "metadata": {},
   "outputs": [
    {
     "name": "stdout",
     "output_type": "stream",
     "text": [
      "{'h': 1, 'e': 1, 'l': 2, 'o': 3}\n"
     ]
    }
   ],
   "source": [
    "def dictFromString(str):\n",
    "    aDict = {}\n",
    "    for c in str:\n",
    "        if aDict.get(c) != None:\n",
    "            aDict[c] = aDict[c]+1\n",
    "        else:\n",
    "            aDict[c] = 1\n",
    "    return aDict\n",
    "            \n",
    "print(dictFromString(\"hellooo\"))"
   ]
  },
  {
   "cell_type": "markdown",
   "id": "professional-investing",
   "metadata": {},
   "source": [
    "# Classes\n",
    "\n",
    "(https://www.learnpython.org/en/Classes_and_Objects)\n",
    "\n",
    "We have a class defined for vehicles. Create two new vehicles called car1 and car2. Set car1 to be a red convertible worth 60,000.00 with a name of Fer, and car2 to be a blue van named Jump worth 10,000.00."
   ]
  },
  {
   "cell_type": "code",
   "execution_count": 60,
   "id": "outside-producer",
   "metadata": {
    "tags": []
   },
   "outputs": [
    {
     "name": "stdout",
     "output_type": "stream",
     "text": [
      "Fer is a red car worth $60000.00.\n",
      "Jump is a blue car worth $10000.00.\n"
     ]
    }
   ],
   "source": [
    "# define the Vehicle class\n",
    "class Vehicle:\n",
    "    name = \"\"\n",
    "    kind = \"car\"\n",
    "    color = \"\"\n",
    "    value = 100.00\n",
    "    def description(self):\n",
    "        desc_str = \"%s is a %s %s worth $%.2f.\" % (self.name, self.color, self.kind, self.value)\n",
    "        return desc_str\n",
    "    \n",
    "# your code goes here\n",
    "car1 = Vehicle()\n",
    "car1.name = \"Fer\"\n",
    "car1.color = \"red\"\n",
    "car1.value = 60000.00\n",
    "\n",
    "car2 = Vehicle()\n",
    "car2.name = \"Jump\"\n",
    "car2.color = \"blue\"\n",
    "car2.value = 10000.00\n",
    "\n",
    "# test code\n",
    "print(car1.description())\n",
    "print(car2.description())"
   ]
  },
  {
   "cell_type": "markdown",
   "id": "sexual-interest",
   "metadata": {},
   "source": [
    "Write a Python class to reverse a string word by word."
   ]
  },
  {
   "cell_type": "code",
   "execution_count": 61,
   "id": "latter-correlation",
   "metadata": {},
   "outputs": [
    {
     "data": {
      "text/plain": [
       "'aaa there hi'"
      ]
     },
     "execution_count": 61,
     "metadata": {},
     "output_type": "execute_result"
    }
   ],
   "source": [
    "class wordReverser:\n",
    "    def reverse(self, str):\n",
    "        ss = str.split()\n",
    "        return \" \".join(reversed(ss))\n",
    "        \n",
    "reverser = wordReverser()\n",
    "reverser.reverse(\"hi there aaa\")"
   ]
  }
 ],
 "metadata": {
  "kernelspec": {
   "display_name": "Python 3",
   "language": "python",
   "name": "python3"
  },
  "language_info": {
   "codemirror_mode": {
    "name": "ipython",
    "version": 3
   },
   "file_extension": ".py",
   "mimetype": "text/x-python",
   "name": "python",
   "nbconvert_exporter": "python",
   "pygments_lexer": "ipython3",
   "version": "3.9.1"
  }
 },
 "nbformat": 4,
 "nbformat_minor": 5
}
