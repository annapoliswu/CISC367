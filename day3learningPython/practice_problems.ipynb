{
 "cells": [
  {
   "cell_type": "markdown",
   "id": "hungry-valuable",
   "metadata": {},
   "source": [
    "# Lambdas\n",
    "\n",
    "- (https://realpython.com/python-lambda/)\n",
    "- another way to write functions that return\n",
    "- `somefunc = lambda x, y: x + y + 1`\n",
    "- `(lambda x: x + 1) (2)`\n",
    "- cannot use pass, assert, for, or raise inside\n",
    "- can be used as a anon function, like with filter(function returning t/f, sequence to filter)\n",
    "- helpful in filter, map, sorted, reduce\n",
    "- (https://www.w3resource.com/python-exercises/lambda/index.php)\n"
   ]
  },
  {
   "cell_type": "markdown",
   "id": "comparative-warehouse",
   "metadata": {},
   "source": [
    "Write a Python program to filter a list of integers for even and odd numbers using Lambda."
   ]
  },
  {
   "cell_type": "code",
   "execution_count": 48,
   "id": "romantic-master",
   "metadata": {},
   "outputs": [
    {
     "name": "stdout",
     "output_type": "stream",
     "text": [
      "Even nums:  [2, 12, 42, 452]\n",
      "Odd nums:  [1, 3, 11, 123]\n"
     ]
    }
   ],
   "source": [
    "aList = [1,2,3,12,42,11,452,123]\n",
    "filteredEven = filter(lambda x: x % 2 == 0, aList)\n",
    "filteredOdd = filter(lambda x: x % 2 == 1, aList)\n",
    "\n",
    "print(\"Even nums: \", list(filteredEven))\n",
    "print(\"Odd nums: \", list(filteredOdd))"
   ]
  },
  {
   "cell_type": "markdown",
   "id": "medium-alcohol",
   "metadata": {},
   "source": [
    "Write a Python program to square and cube every number in a given list of integers using Lambda."
   ]
  },
  {
   "cell_type": "code",
   "execution_count": 49,
   "id": "synthetic-extreme",
   "metadata": {},
   "outputs": [
    {
     "name": "stdout",
     "output_type": "stream",
     "text": [
      "Squared:  [1, 4, 9, 16, 25, 36, 49, 64, 81, 100]\n",
      "Cubed:  [1, 8, 27, 64, 125, 216, 343, 512, 729, 1000]\n"
     ]
    }
   ],
   "source": [
    "aList = [1, 2, 3, 4, 5, 6, 7, 8, 9, 10]\n",
    "print(\"Squared: \", list(map(lambda x : x**2, aList)) )\n",
    "print(\"Cubed: \", list(map(lambda x : x**3, aList)) )"
   ]
  },
  {
   "cell_type": "markdown",
   "id": "national-serial",
   "metadata": {},
   "source": [
    " Write a Python program to find intersection of two given arrays using Lambda."
   ]
  },
  {
   "cell_type": "code",
   "execution_count": 50,
   "id": "improved-johnson",
   "metadata": {
    "tags": []
   },
   "outputs": [
    {
     "name": "stdout",
     "output_type": "stream",
     "text": [
      "Intersection:  [1, 2, 8, 9]\n"
     ]
    }
   ],
   "source": [
    "list1 = [1, 2, 3, 5, 7, 8, 9, 10]\n",
    "list2 = [1, 2, 4, 8, 9]\n",
    "\n",
    "intersection = list(filter(lambda x: x in list1, list2))\n",
    "print(\"Intersection: \", intersection)"
   ]
  },
  {
   "cell_type": "markdown",
   "id": "impressed-atmosphere",
   "metadata": {},
   "source": [
    "Write a Python program to find if a given string starts with a given character using Lambda."
   ]
  },
  {
   "cell_type": "code",
   "execution_count": 51,
   "id": "intended-national",
   "metadata": {},
   "outputs": [
    {
     "name": "stdout",
     "output_type": "stream",
     "text": [
      "True\n",
      "False\n"
     ]
    }
   ],
   "source": [
    "startsWith = (lambda str, x : str[0] == x)\n",
    "print(startsWith(\"hmmm\", 'h'))\n",
    "print(startsWith(\"hmmm\", 'a'))"
   ]
  },
  {
   "cell_type": "markdown",
   "id": "alike-frost",
   "metadata": {},
   "source": [
    "Write a Python program to find the values of length six in a given list using Lambda."
   ]
  },
  {
   "cell_type": "code",
   "execution_count": 52,
   "id": "white-holly",
   "metadata": {
    "tags": []
   },
   "outputs": [
    {
     "data": {
      "text/plain": [
       "['sunday', 'monday']"
      ]
     },
     "execution_count": 52,
     "metadata": {},
     "output_type": "execute_result"
    }
   ],
   "source": [
    "stringList = [\"aa\", \"sunday\",\"monday\",\"noo\",\"tuesday\",\"wednesday\"]\n",
    "list( filter( (lambda x : len(x) == 6), stringList )  )"
   ]
  },
  {
   "cell_type": "markdown",
   "id": "floppy-association",
   "metadata": {},
   "source": [
    "Write a Python program to add two given lists using map and lambda. "
   ]
  },
  {
   "cell_type": "code",
   "execution_count": 53,
   "id": "modular-protest",
   "metadata": {},
   "outputs": [
    {
     "data": {
      "text/plain": [
       "[3, 4, 5, 6]"
      ]
     },
     "execution_count": 53,
     "metadata": {},
     "output_type": "execute_result"
    }
   ],
   "source": [
    "list1 = [1,2,3,4]\n",
    "list2 = [2,2,2,2]\n",
    "list( map( (lambda x, y : x + y), list1, list2) )"
   ]
  },
  {
   "cell_type": "markdown",
   "id": "structured-default",
   "metadata": {},
   "source": [
    "Write a Python program to calculate the average value of the numbers in a given tuple of tuples using lambda."
   ]
  },
  {
   "cell_type": "code",
   "execution_count": 69,
   "id": "further-briefing",
   "metadata": {},
   "outputs": [
    {
     "data": {
      "text/plain": [
       "[10.0, 43.666666666666664, 66.66666666666667, 2.0]"
      ]
     },
     "execution_count": 69,
     "metadata": {},
     "output_type": "execute_result"
    }
   ],
   "source": [
    "aTuple = ((10, 10, 10), (30, 45, 56), (81, 80, 39), (1, 2, 3))\n",
    "list( map( (lambda t : sum(t) / len(t)), aTuple ) )"
   ]
  },
  {
   "cell_type": "markdown",
   "id": "middle-testing",
   "metadata": {},
   "source": [
    "Write a Python program that sum the length of the names of a given list of names after removing the names that starts with an lowercase letter. Use lambda function."
   ]
  },
  {
   "cell_type": "code",
   "execution_count": 54,
   "id": "collected-investigator",
   "metadata": {},
   "outputs": [
    {
     "data": {
      "text/plain": [
       "9"
      ]
     },
     "execution_count": 54,
     "metadata": {},
     "output_type": "execute_result"
    }
   ],
   "source": [
    "names = [\"anna\",\"Amy\",\"Stella\",\"randy\",\"vicky\"]\n",
    "lowercaseNames = list( filter( (lambda x : x[0].isupper() ), names ) )\n",
    "len(\"\".join(lowercaseNames))"
   ]
  },
  {
   "cell_type": "markdown",
   "id": "specified-computer",
   "metadata": {},
   "source": [
    "Write a Python program to sort a given list of lists by length and value using lambda.\n",
    "- see(https://www.kite.com/python/answers/how-to-sort-by-two-keys-in-python)\n",
    "- where tuples are useful, return a tuple for key in sorted"
   ]
  },
  {
   "cell_type": "code",
   "execution_count": 55,
   "id": "antique-austin",
   "metadata": {},
   "outputs": [
    {
     "data": {
      "text/plain": [
       "[[0], [2], [3], [0, 7], [1, 3], [2, 1], [9, 11], [13, 15, 17]]"
      ]
     },
     "execution_count": 55,
     "metadata": {},
     "output_type": "execute_result"
    }
   ],
   "source": [
    "alist = [[2], [9, 11], [0], [1, 3], [0, 7],  [13, 15, 17], [2,1], [3]]\n",
    "sorted(alist, key= ( lambda item : (len(item),item) )  )"
   ]
  },
  {
   "cell_type": "markdown",
   "id": "varying-walnut",
   "metadata": {},
   "source": [
    "# Tuples\n",
    "\n",
    "(https://realpython.com/python-lists-tuples/#python-tuples)\n",
    "- like immutable lists\n",
    "- `t = ('foo', 'bar', 'baz', 'qux', 'quux', 'corge')`\n",
    "- can be used in dictionaries where value must be immutable type"
   ]
  },
  {
   "cell_type": "markdown",
   "id": "printable-token",
   "metadata": {},
   "source": [
    "Write a Python program to get the 4th element and 4th element from last of a tuple."
   ]
  },
  {
   "cell_type": "code",
   "execution_count": 56,
   "id": "atomic-fiction",
   "metadata": {},
   "outputs": [
    {
     "name": "stdout",
     "output_type": "stream",
     "text": [
      "4th item: 4, 4th from last: 5\n"
     ]
    }
   ],
   "source": [
    "atuple = (1,2,3,4,5,6,7,8)\n",
    "a = atuple[3]\n",
    "b = atuple[-4]\n",
    "print(\"4th item: %s, 4th from last: %s\" %(a,b) )"
   ]
  },
  {
   "cell_type": "markdown",
   "id": "certain-pride",
   "metadata": {},
   "source": [
    "Write a Python program to check if a specified element presents in a tuple of tuples."
   ]
  },
  {
   "cell_type": "code",
   "execution_count": 57,
   "id": "violent-liverpool",
   "metadata": {},
   "outputs": [],
   "source": [
    "def inTuple(find, tt):\n",
    "    for t in tt:\n",
    "        for item in t:\n",
    "            if item == find:\n",
    "                return True\n",
    "    return False\n",
    "\n",
    "\n",
    "atuple = ((\"dog\", \"cat\"), (\"fish\", \"hampster\", \"rabbit\") , (\"cat\",\"cat\",\"dog\" ) ) \n",
    "\n",
    "assert(inTuple(\"fish\",atuple) == True)\n",
    "assert(inTuple(\"bear\", atuple) == False)"
   ]
  },
  {
   "cell_type": "markdown",
   "id": "frank-satin",
   "metadata": {},
   "source": [
    "Unpack the following tuple into 4 variables"
   ]
  },
  {
   "cell_type": "code",
   "execution_count": 58,
   "id": "terminal-rebecca",
   "metadata": {},
   "outputs": [
    {
     "name": "stdout",
     "output_type": "stream",
     "text": [
      "10 20 30 40\n"
     ]
    }
   ],
   "source": [
    "aTuple = (10, 20, 30, 40)\n",
    "(a,b,c,d) = aTuple\n",
    "print(a, b, c, d)"
   ]
  },
  {
   "cell_type": "markdown",
   "id": "defined-cable",
   "metadata": {},
   "source": [
    "# Dictionaries\n",
    "\n",
    "Merge the following two Python dictionaries into one"
   ]
  },
  {
   "cell_type": "code",
   "execution_count": 59,
   "id": "offshore-tender",
   "metadata": {},
   "outputs": [
    {
     "name": "stdout",
     "output_type": "stream",
     "text": [
      "{'Ten': 10, 'Twenty': 20, 'Thirty': 30, 'Fourty': 40, 'Fifty': 50}\n",
      "{'Ten': 10, 'Twenty': 20, 'Thirty': 30, 'Fourty': 40, 'Fifty': 50}\n"
     ]
    }
   ],
   "source": [
    "dict1 = {'Ten': 10, 'Twenty': 20, 'Thirty': 30}\n",
    "dict2 = {'Thirty': 30, 'Fourty': 40, 'Fifty': 50}\n",
    "\n",
    "dict3 = {**dict1, **dict2}\n",
    "dict4 = dict1.copy()\n",
    "dict4.update(dict2)\n",
    "print(dict3)\n",
    "print(dict4)"
   ]
  },
  {
   "cell_type": "markdown",
   "id": "short-guess",
   "metadata": {},
   "source": [
    "Delete set of keys from Python Dictionary"
   ]
  },
  {
   "cell_type": "code",
   "execution_count": 60,
   "id": "subtle-expansion",
   "metadata": {},
   "outputs": [
    {
     "name": "stdout",
     "output_type": "stream",
     "text": [
      "{'age': 25, 'city': 'New york'}\n"
     ]
    }
   ],
   "source": [
    "sampleDict = {\n",
    "  \"name\": \"Kelly\",\n",
    "  \"age\":25,\n",
    "  \"salary\": 8000,\n",
    "  \"city\": \"New york\"\n",
    "  \n",
    "}\n",
    "keysToRemove = [\"name\", \"salary\"]\n",
    "\n",
    "for key in keysToRemove:\n",
    "    sampleDict.pop(key)\n",
    "    \n",
    "print(sampleDict)"
   ]
  },
  {
   "cell_type": "markdown",
   "id": "civilian-birth",
   "metadata": {},
   "source": [
    "Write a Python script to print a dictionary where the keys are numbers between 1 and 15 (both included) and the values are square of keys."
   ]
  },
  {
   "cell_type": "code",
   "execution_count": 61,
   "id": "attempted-replication",
   "metadata": {},
   "outputs": [
    {
     "name": "stdout",
     "output_type": "stream",
     "text": [
      "{1: 1, 2: 4, 3: 9, 4: 16, 5: 25, 6: 36, 7: 49, 8: 64, 9: 81, 10: 100, 11: 121, 12: 144, 13: 169, 14: 196, 15: 225}\n"
     ]
    }
   ],
   "source": [
    "aDict = {}\n",
    "for i in range(1,16):\n",
    "    aDict[i] = i*i\n",
    "\n",
    "print(aDict)"
   ]
  },
  {
   "cell_type": "markdown",
   "id": "illegal-governor",
   "metadata": {},
   "source": [
    "Write a Python program to create a dictionary from a string.\n",
    "Note: Track the count of the letters from the string."
   ]
  },
  {
   "cell_type": "code",
   "execution_count": 62,
   "id": "critical-riverside",
   "metadata": {},
   "outputs": [
    {
     "name": "stdout",
     "output_type": "stream",
     "text": [
      "{'h': 1, 'e': 1, 'l': 2, 'o': 3}\n"
     ]
    }
   ],
   "source": [
    "def dictFromString(str):\n",
    "    aDict = {}\n",
    "    for c in str:\n",
    "        if aDict.get(c) != None:\n",
    "            aDict[c] = aDict[c]+1\n",
    "        else:\n",
    "            aDict[c] = 1\n",
    "    return aDict\n",
    "            \n",
    "print(dictFromString(\"hellooo\"))"
   ]
  },
  {
   "cell_type": "markdown",
   "id": "undefined-anthropology",
   "metadata": {},
   "source": [
    "# Classes\n",
    "\n",
    "(https://www.learnpython.org/en/Classes_and_Objects)\n",
    "\n",
    "We have a class defined for vehicles. Create two new vehicles called car1 and car2. Set car1 to be a red convertible worth 60,000.00 with a name of Fer, and car2 to be a blue van named Jump worth 10,000.00."
   ]
  },
  {
   "cell_type": "code",
   "execution_count": 63,
   "id": "increased-green",
   "metadata": {
    "tags": []
   },
   "outputs": [
    {
     "name": "stdout",
     "output_type": "stream",
     "text": [
      "Fer is a red car worth $60000.00.\n",
      "Jump is a blue car worth $10000.00.\n"
     ]
    }
   ],
   "source": [
    "# define the Vehicle class\n",
    "class Vehicle:\n",
    "    name = \"\"\n",
    "    kind = \"car\"\n",
    "    color = \"\"\n",
    "    value = 100.00\n",
    "    def description(self):\n",
    "        desc_str = \"%s is a %s %s worth $%.2f.\" % (self.name, self.color, self.kind, self.value)\n",
    "        return desc_str\n",
    "    \n",
    "# your code goes here\n",
    "car1 = Vehicle()\n",
    "car1.name = \"Fer\"\n",
    "car1.color = \"red\"\n",
    "car1.value = 60000.00\n",
    "\n",
    "car2 = Vehicle()\n",
    "car2.name = \"Jump\"\n",
    "car2.color = \"blue\"\n",
    "car2.value = 10000.00\n",
    "\n",
    "# test code\n",
    "print(car1.description())\n",
    "print(car2.description())"
   ]
  },
  {
   "cell_type": "markdown",
   "id": "altered-customs",
   "metadata": {},
   "source": [
    "Write a Python class to reverse a string word by word."
   ]
  },
  {
   "cell_type": "code",
   "execution_count": 64,
   "id": "gorgeous-toilet",
   "metadata": {},
   "outputs": [
    {
     "data": {
      "text/plain": [
       "'aaa there hi'"
      ]
     },
     "execution_count": 64,
     "metadata": {},
     "output_type": "execute_result"
    }
   ],
   "source": [
    "class wordReverser:\n",
    "    def reverse(self, str):\n",
    "        ss = str.split()\n",
    "        return \" \".join(reversed(ss))\n",
    "        \n",
    "reverser = wordReverser()\n",
    "reverser.reverse(\"hi there aaa\")"
   ]
  }
 ],
 "metadata": {
  "kernelspec": {
   "display_name": "Python 3",
   "language": "python",
   "name": "python3"
  },
  "language_info": {
   "codemirror_mode": {
    "name": "ipython",
    "version": 3
   },
   "file_extension": ".py",
   "mimetype": "text/x-python",
   "name": "python",
   "nbconvert_exporter": "python",
   "pygments_lexer": "ipython3",
   "version": "3.9.1"
  }
 },
 "nbformat": 4,
 "nbformat_minor": 5
}
