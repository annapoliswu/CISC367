{
 "cells": [
  {
   "cell_type": "markdown",
   "id": "olympic-newcastle",
   "metadata": {},
   "source": [
    "# Lambdas\n",
    "\n",
    "- (https://realpython.com/python-lambda/)\n",
    "- another way to write functions that return\n",
    "- `somefunc = lambda x, y: x + y + 1`\n",
    "- `(lambda x: x + 1) (2)`\n",
    "- cannot use pass, assert, for, or raise inside\n",
    "- can be used as a anon function, like with filter(function returning t/f, sequence to filter)\n",
    "- (https://www.w3resource.com/python-exercises/lambda/index.php)\n"
   ]
  },
  {
   "cell_type": "markdown",
   "id": "descending-hospital",
   "metadata": {},
   "source": [
    "Write a Python program to filter a list of integers for even and odd numbers using Lambda."
   ]
  },
  {
   "cell_type": "code",
   "execution_count": null,
   "id": "dying-proposition",
   "metadata": {},
   "outputs": [],
   "source": [
    "aList = [1,2,3,12,42,11,452,123]\n",
    "filteredEven = filter(lambda x: x % 2 == 0, aList)\n",
    "filteredOdd = filter(lambda x: x % 2 == 1, aList)\n",
    "\n",
    "print(\"Even nums: \", list(filteredEven))\n",
    "print(\"Odd nums: \", list(filteredOdd))"
   ]
  },
  {
   "cell_type": "markdown",
   "id": "radio-roads",
   "metadata": {},
   "source": [
    "Write a Python program to square and cube every number in a given list of integers using Lambda."
   ]
  },
  {
   "cell_type": "code",
   "execution_count": null,
   "id": "lightweight-truth",
   "metadata": {},
   "outputs": [],
   "source": [
    "aList = [1, 2, 3, 4, 5, 6, 7, 8, 9, 10]\n",
    "print(\"Squared: \", list(map(lambda x : x**2, aList)) )\n",
    "print(\"Cubed: \", list(map(lambda x : x**3, aList)) )"
   ]
  },
  {
   "cell_type": "markdown",
   "id": "expressed-creek",
   "metadata": {},
   "source": [
    " Write a Python program to find intersection of two given arrays using Lambda."
   ]
  },
  {
   "cell_type": "code",
   "execution_count": 9,
   "id": "institutional-packet",
   "metadata": {
    "tags": []
   },
   "outputs": [
    {
     "name": "stdout",
     "output_type": "stream",
     "text": [
      "Intersection:  [1, 2, 8, 9]\n"
     ]
    }
   ],
   "source": [
    "list1 = [1, 2, 3, 5, 7, 8, 9, 10]\n",
    "list2 = [1, 2, 4, 8, 9]\n",
    "\n",
    "intersection = list(filter(lambda x: x in list1, list2))\n",
    "print(\"Intersection: \", intersection)"
   ]
  },
  {
   "cell_type": "markdown",
   "id": "alpine-diagram",
   "metadata": {},
   "source": [
    "Write a Python program to find if a given string starts with a given character using Lambda."
   ]
  },
  {
   "cell_type": "code",
   "execution_count": 6,
   "id": "suburban-nickname",
   "metadata": {},
   "outputs": [
    {
     "name": "stdout",
     "output_type": "stream",
     "text": [
      "True\n",
      "False\n"
     ]
    }
   ],
   "source": [
    "startsWith = (lambda str, x : str[0] == x)\n",
    "print(startsWith(\"hmmm\", 'h'))\n",
    "print(startsWith(\"hmmm\", 'a'))"
   ]
  },
  {
   "cell_type": "markdown",
   "id": "hungry-spider",
   "metadata": {},
   "source": [
    "Write a Python program to find the values of length six in a given list using Lambda."
   ]
  },
  {
   "cell_type": "code",
   "execution_count": 12,
   "id": "heavy-notebook",
   "metadata": {
    "tags": []
   },
   "outputs": [
    {
     "data": {
      "text/plain": [
       "['sunday', 'monday']"
      ]
     },
     "execution_count": 12,
     "metadata": {},
     "output_type": "execute_result"
    }
   ],
   "source": [
    "stringList = [\"aa\", \"sunday\",\"monday\",\"noo\",\"tuesday\",\"wednesday\"]\n",
    "list( filter( (lambda x : len(x) == 6), stringList )  )"
   ]
  },
  {
   "cell_type": "markdown",
   "id": "successful-connecticut",
   "metadata": {},
   "source": [
    "Write a Python program to add two given lists using map and lambda. "
   ]
  },
  {
   "cell_type": "code",
   "execution_count": 14,
   "id": "running-arctic",
   "metadata": {},
   "outputs": [
    {
     "data": {
      "text/plain": [
       "[3, 4, 5, 6]"
      ]
     },
     "execution_count": 14,
     "metadata": {},
     "output_type": "execute_result"
    }
   ],
   "source": [
    "list1 = [1,2,3,4]\n",
    "list2 = [2,2,2,2]\n",
    "list( map( (lambda x, y : x + y), list1, list2) )"
   ]
  },
  {
   "cell_type": "markdown",
   "id": "phantom-charge",
   "metadata": {},
   "source": []
  },
  {
   "cell_type": "markdown",
   "id": "determined-mobile",
   "metadata": {},
   "source": [
    "# Tuples\n",
    "\n",
    "(https://realpython.com/python-lists-tuples/#python-tuples)\n",
    "- like immutable lists\n",
    "- `t = ('foo', 'bar', 'baz', 'qux', 'quux', 'corge')`\n",
    "- can be used in dictionaries where value must be immutable type"
   ]
  },
  {
   "cell_type": "markdown",
   "id": "massive-basement",
   "metadata": {},
   "source": [
    "Write a Python program to get the 4th element and 4th element from last of a tuple."
   ]
  },
  {
   "cell_type": "code",
   "execution_count": null,
   "id": "light-stationery",
   "metadata": {},
   "outputs": [],
   "source": [
    "atuple = (1,2,3,4,5,6,7,8)\n",
    "a = atuple[3]\n",
    "b = atuple[-4]\n",
    "print(\"4th item: %s, 4th from last: %s\" %(a,b) )"
   ]
  },
  {
   "cell_type": "markdown",
   "id": "hearing-presentation",
   "metadata": {},
   "source": [
    "Write a Python program to check if a specified element presents in a tuple of tuples."
   ]
  },
  {
   "cell_type": "code",
   "execution_count": null,
   "id": "incorporated-lincoln",
   "metadata": {},
   "outputs": [],
   "source": [
    "def inTuple(find, tt):\n",
    "    for t in tt:\n",
    "        for item in t:\n",
    "            if item == find:\n",
    "                return True\n",
    "    return False\n",
    "\n",
    "\n",
    "atuple = ((\"dog\", \"cat\"), (\"fish\", \"hampster\", \"rabbit\") , (\"cat\",\"cat\",\"dog\" ) ) \n",
    "\n",
    "assert(inTuple(\"fish\",atuple) == True)\n",
    "assert(inTuple(\"bear\", atuple) == False)"
   ]
  },
  {
   "cell_type": "markdown",
   "id": "eastern-imaging",
   "metadata": {},
   "source": [
    "Unpack the following tuple into 4 variables"
   ]
  },
  {
   "cell_type": "code",
   "execution_count": null,
   "id": "sound-russian",
   "metadata": {},
   "outputs": [],
   "source": [
    "aTuple = (10, 20, 30, 40)\n",
    "(a,b,c,d) = aTuple\n",
    "print(a, b, c, d)"
   ]
  },
  {
   "cell_type": "markdown",
   "id": "acknowledged-extent",
   "metadata": {},
   "source": [
    "# Dictionaries\n",
    "\n",
    "Merge the following two Python dictionaries into one"
   ]
  },
  {
   "cell_type": "code",
   "execution_count": null,
   "id": "minor-boards",
   "metadata": {},
   "outputs": [],
   "source": [
    "dict1 = {'Ten': 10, 'Twenty': 20, 'Thirty': 30}\n",
    "dict2 = {'Thirty': 30, 'Fourty': 40, 'Fifty': 50}\n",
    "\n",
    "dict3 = {**dict1, **dict2}\n",
    "dict4 = dict1.copy()\n",
    "dict4.update(dict2)\n",
    "print(dict3)\n",
    "print(dict4)"
   ]
  },
  {
   "cell_type": "markdown",
   "id": "bulgarian-candle",
   "metadata": {},
   "source": [
    "Delete set of keys from Python Dictionary"
   ]
  },
  {
   "cell_type": "code",
   "execution_count": null,
   "id": "million-worcester",
   "metadata": {},
   "outputs": [],
   "source": [
    "sampleDict = {\n",
    "  \"name\": \"Kelly\",\n",
    "  \"age\":25,\n",
    "  \"salary\": 8000,\n",
    "  \"city\": \"New york\"\n",
    "  \n",
    "}\n",
    "keysToRemove = [\"name\", \"salary\"]\n",
    "\n",
    "for key in keysToRemove:\n",
    "    sampleDict.pop(key)\n",
    "    \n",
    "print(sampleDict)"
   ]
  },
  {
   "cell_type": "markdown",
   "id": "acute-dayton",
   "metadata": {},
   "source": [
    "Write a Python script to print a dictionary where the keys are numbers between 1 and 15 (both included) and the values are square of keys."
   ]
  },
  {
   "cell_type": "code",
   "execution_count": null,
   "id": "written-cincinnati",
   "metadata": {},
   "outputs": [],
   "source": [
    "aDict = {}\n",
    "for i in range(1,16):\n",
    "    aDict[i] = i*i\n",
    "\n",
    "print(aDict)"
   ]
  },
  {
   "cell_type": "markdown",
   "id": "technical-uncle",
   "metadata": {},
   "source": [
    "Write a Python program to create a dictionary from a string.\n",
    "Note: Track the count of the letters from the string."
   ]
  },
  {
   "cell_type": "code",
   "execution_count": null,
   "id": "unavailable-productivity",
   "metadata": {},
   "outputs": [],
   "source": [
    "def dictFromString(str):\n",
    "    aDict = {}\n",
    "    for c in str:\n",
    "        if aDict.get(c) != None:\n",
    "            aDict[c] = aDict[c]+1\n",
    "        else:\n",
    "            aDict[c] = 1\n",
    "    return aDict\n",
    "            \n",
    "print(dictFromString(\"hellooo\"))"
   ]
  },
  {
   "cell_type": "markdown",
   "id": "residential-internship",
   "metadata": {},
   "source": [
    "# Classes\n",
    "\n",
    "(https://www.learnpython.org/en/Classes_and_Objects)\n",
    "\n",
    "We have a class defined for vehicles. Create two new vehicles called car1 and car2. Set car1 to be a red convertible worth 60,000.00 with a name of Fer, and car2 to be a blue van named Jump worth 10,000.00."
   ]
  },
  {
   "cell_type": "code",
   "execution_count": null,
   "id": "extreme-grace",
   "metadata": {
    "tags": []
   },
   "outputs": [],
   "source": [
    "# define the Vehicle class\n",
    "class Vehicle:\n",
    "    name = \"\"\n",
    "    kind = \"car\"\n",
    "    color = \"\"\n",
    "    value = 100.00\n",
    "    def description(self):\n",
    "        desc_str = \"%s is a %s %s worth $%.2f.\" % (self.name, self.color, self.kind, self.value)\n",
    "        return desc_str\n",
    "    \n",
    "# your code goes here\n",
    "car1 = Vehicle()\n",
    "car1.name = \"Fer\"\n",
    "car1.color = \"red\"\n",
    "car1.value = 60000.00\n",
    "\n",
    "car2 = Vehicle()\n",
    "car2.name = \"Jump\"\n",
    "car2.color = \"blue\"\n",
    "car2.value = 10000.00\n",
    "\n",
    "# test code\n",
    "print(car1.description())\n",
    "print(car2.description())"
   ]
  },
  {
   "cell_type": "markdown",
   "id": "christian-second",
   "metadata": {},
   "source": [
    "Write a Python class to reverse a string word by word."
   ]
  },
  {
   "cell_type": "code",
   "execution_count": null,
   "id": "improved-basic",
   "metadata": {},
   "outputs": [],
   "source": [
    "class wordReverser:\n",
    "    def reverse(self, str):\n",
    "        ss = str.split()\n",
    "        return \" \".join(reversed(ss))\n",
    "        \n",
    "reverser = wordReverser()\n",
    "reverser.reverse(\"hi there aaa\")"
   ]
  }
 ],
 "metadata": {
  "kernelspec": {
   "display_name": "Python 3",
   "language": "python",
   "name": "python3"
  },
  "language_info": {
   "codemirror_mode": {
    "name": "ipython",
    "version": 3
   },
   "file_extension": ".py",
   "mimetype": "text/x-python",
   "name": "python",
   "nbconvert_exporter": "python",
   "pygments_lexer": "ipython3",
   "version": "3.9.1"
  }
 },
 "nbformat": 4,
 "nbformat_minor": 5
}
